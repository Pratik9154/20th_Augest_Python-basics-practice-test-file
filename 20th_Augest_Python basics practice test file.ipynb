{
 "cells": [
  {
   "cell_type": "code",
   "execution_count": 1,
   "id": "e94091f8",
   "metadata": {
    "ExecuteTime": {
     "end_time": "2023-10-11T18:04:56.317903Z",
     "start_time": "2023-10-11T18:04:56.302822Z"
    }
   },
   "outputs": [],
   "source": [
    "#                   TOPIC: String Based Assignment Problem"
   ]
  },
  {
   "cell_type": "code",
   "execution_count": null,
   "id": "1ccd8337",
   "metadata": {},
   "outputs": [],
   "source": [
    "\n"
   ]
  },
  {
   "cell_type": "code",
   "execution_count": 2,
   "id": "9c5c1e25",
   "metadata": {
    "ExecuteTime": {
     "end_time": "2023-10-11T18:09:53.825448Z",
     "start_time": "2023-10-11T18:09:47.281273Z"
    }
   },
   "outputs": [
    {
     "name": "stdout",
     "output_type": "stream",
     "text": [
      "enter string:ffhho\n",
      "ohhff\n"
     ]
    }
   ],
   "source": [
    "#1. Write a program to reverse a string.\n",
    "\n",
    "#enter string\n",
    "string = input('enter string:')\n",
    "#reversing func\n",
    "print(string[::-1])"
   ]
  },
  {
   "cell_type": "code",
   "execution_count": 4,
   "id": "18c6df9b",
   "metadata": {
    "ExecuteTime": {
     "end_time": "2023-10-11T18:13:19.504509Z",
     "start_time": "2023-10-11T18:13:12.964802Z"
    }
   },
   "outputs": [
    {
     "name": "stdout",
     "output_type": "stream",
     "text": [
      "enter string:prarp\n",
      "it is a palindrome\n"
     ]
    }
   ],
   "source": [
    "#2. Check if a string is a palindrome.\n",
    "\n",
    "#enter string\n",
    "string = input('enter string:')\n",
    "#palindrome check func\n",
    "if string == string[::-1]:\n",
    "    print('it is a palindrome')\n",
    "else:\n",
    "    print('not a palindrome')"
   ]
  },
  {
   "cell_type": "code",
   "execution_count": 5,
   "id": "b652c36d",
   "metadata": {
    "ExecuteTime": {
     "end_time": "2023-10-11T18:15:10.324557Z",
     "start_time": "2023-10-11T18:15:08.050367Z"
    }
   },
   "outputs": [
    {
     "name": "stdout",
     "output_type": "stream",
     "text": [
      "enter string:sd\n",
      "SD\n"
     ]
    }
   ],
   "source": [
    "#3. Convert a string to uppercase.\n",
    "\n",
    "#enter string\n",
    "string = input('enter string:')\n",
    "# convert uppercase\n",
    "print(string.upper())"
   ]
  },
  {
   "cell_type": "code",
   "execution_count": 6,
   "id": "780ba793",
   "metadata": {
    "ExecuteTime": {
     "end_time": "2023-10-11T18:16:05.998273Z",
     "start_time": "2023-10-11T18:16:00.902388Z"
    }
   },
   "outputs": [
    {
     "name": "stdout",
     "output_type": "stream",
     "text": [
      "enter string:sfDDS\n",
      "sfdds\n"
     ]
    }
   ],
   "source": [
    "#4. Convert a string to lowercase.\n",
    "\n",
    "#enter string\n",
    "string = input('enter string:')\n",
    "# convert lowercase\n",
    "print(string.lower())"
   ]
  },
  {
   "cell_type": "code",
   "execution_count": 7,
   "id": "ba1c9f0e",
   "metadata": {
    "ExecuteTime": {
     "end_time": "2023-10-11T18:24:36.698869Z",
     "start_time": "2023-10-11T18:24:33.099708Z"
    }
   },
   "outputs": [
    {
     "name": "stdout",
     "output_type": "stream",
     "text": [
      "enter string:foifih\n",
      "3\n"
     ]
    }
   ],
   "source": [
    "#5. Count the number of vowels in a string.\n",
    "\n",
    "#enter string\n",
    "string = input('enter string:')\n",
    "#count variable\n",
    "count=0\n",
    "#counting function\n",
    "for i in string:\n",
    "    if i in ['a','e','i','o','u']:\n",
    "        count+=1\n",
    "print(count)"
   ]
  },
  {
   "cell_type": "code",
   "execution_count": 8,
   "id": "f8fa1081",
   "metadata": {
    "ExecuteTime": {
     "end_time": "2023-10-11T18:26:37.314542Z",
     "start_time": "2023-10-11T18:26:34.576651Z"
    }
   },
   "outputs": [
    {
     "name": "stdout",
     "output_type": "stream",
     "text": [
      "enter string:jdfoijfef\n",
      "6\n"
     ]
    }
   ],
   "source": [
    "#6. Count the number of consonants in a string.\n",
    "\n",
    "#enter string\n",
    "string = input('enter string:')\n",
    "#count variable\n",
    "count=0\n",
    "#counting function\n",
    "for i in string:\n",
    "    if i not in ['a','e','i','o','u']:\n",
    "        count+=1\n",
    "print(count)"
   ]
  },
  {
   "cell_type": "code",
   "execution_count": 9,
   "id": "70a8f664",
   "metadata": {
    "ExecuteTime": {
     "end_time": "2023-10-11T18:28:16.257432Z",
     "start_time": "2023-10-11T18:28:13.141199Z"
    }
   },
   "outputs": [
    {
     "name": "stdout",
     "output_type": "stream",
     "text": [
      "enter string : wewf nkjwe  \n",
      "wewfnkjwe\n"
     ]
    }
   ],
   "source": [
    "#7. Remove all whitespaces from a string.\n",
    "\n",
    "#enter string\n",
    "string=input('enter string : ')\n",
    "#replacing space with blank\n",
    "string2 = string.replace(' ','')\n",
    "print(string2)"
   ]
  },
  {
   "cell_type": "code",
   "execution_count": 11,
   "id": "17180156",
   "metadata": {
    "ExecuteTime": {
     "end_time": "2023-10-11T18:30:58.256167Z",
     "start_time": "2023-10-11T18:30:56.334790Z"
    }
   },
   "outputs": [
    {
     "name": "stdout",
     "output_type": "stream",
     "text": [
      "enter string : dkdkf\n",
      "5\n"
     ]
    }
   ],
   "source": [
    "#8. Find the length of a string without using the `len()` function.\n",
    "\n",
    "#enter string\n",
    "string=input('enter string : ')\n",
    "#count variable\n",
    "count=0\n",
    "#counting\n",
    "for i in string:\n",
    "    count+=1\n",
    "print(count)"
   ]
  },
  {
   "cell_type": "code",
   "execution_count": 13,
   "id": "1a169397",
   "metadata": {
    "ExecuteTime": {
     "end_time": "2023-10-11T18:37:49.772854Z",
     "start_time": "2023-10-11T18:37:41.252189Z"
    }
   },
   "outputs": [
    {
     "name": "stdout",
     "output_type": "stream",
     "text": [
      "enter string : print\n",
      "enter word : a\n",
      "not present\n"
     ]
    }
   ],
   "source": [
    "#9. Check if a string contains a specific word.\n",
    "\n",
    "#enter string\n",
    "string=input('enter string : ')\n",
    "#enter word you want to check\n",
    "word=str(input('enter word : '))\n",
    "if string.find(word)==-1:\n",
    "    print('not present')\n",
    "else:\n",
    "    print('present')"
   ]
  },
  {
   "cell_type": "code",
   "execution_count": 15,
   "id": "fc3c491f",
   "metadata": {
    "ExecuteTime": {
     "end_time": "2023-10-11T18:41:39.157718Z",
     "start_time": "2023-10-11T18:41:30.388266Z"
    }
   },
   "outputs": [
    {
     "name": "stdout",
     "output_type": "stream",
     "text": [
      "enter string : ssd\n",
      "enter word you want to replace: a\n",
      "enter word with you want to replace: d\n",
      "ssd\n"
     ]
    }
   ],
   "source": [
    "#10. Replace a word in a string with another word.\n",
    "\n",
    "#enter string\n",
    "string=input('enter string : ')\n",
    "#enter word you want to replace\n",
    "word=str(input('enter word you want to replace: '))\n",
    "#enter word with you want to replace\n",
    "word2=str(input('enter word with you want to replace: '))\n",
    "\n",
    "string2=string.replace(word,word2)\n",
    "print(string2)"
   ]
  },
  {
   "cell_type": "code",
   "execution_count": 17,
   "id": "3e8bd27e",
   "metadata": {
    "ExecuteTime": {
     "end_time": "2023-10-11T18:45:49.567504Z",
     "start_time": "2023-10-11T18:45:44.361435Z"
    }
   },
   "outputs": [
    {
     "name": "stdout",
     "output_type": "stream",
     "text": [
      "enter string : sdjnfjjj\n",
      "enter word : j\n",
      "4\n"
     ]
    }
   ],
   "source": [
    "#11. Count the occurrences of a word in a string.\n",
    "\n",
    "#enter string\n",
    "string=input('enter string : ')\n",
    "#enter word you want to check\n",
    "word=str(input('enter word : '))\n",
    "#conunting variable\n",
    "count=0\n",
    "for i in string:\n",
    "    if i==word:\n",
    "        count+=1\n",
    "print(count)"
   ]
  },
  {
   "cell_type": "code",
   "execution_count": 18,
   "id": "070daba5",
   "metadata": {
    "ExecuteTime": {
     "end_time": "2023-10-12T05:32:53.528108Z",
     "start_time": "2023-10-12T05:32:46.889497Z"
    }
   },
   "outputs": [
    {
     "name": "stdout",
     "output_type": "stream",
     "text": [
      "enter string:pratikspp\n",
      "3\n"
     ]
    }
   ],
   "source": [
    "#12. Find the first occurrence of a word in a string.\n",
    "\n",
    "#enter string\n",
    "string = input('enter string:')\n",
    "#get word\n",
    "word=string[0]\n",
    "count=0\n",
    "#counting function\n",
    "for i in string:\n",
    "    if i==word:\n",
    "        count+=1\n",
    "print(count)\n"
   ]
  },
  {
   "cell_type": "code",
   "execution_count": 19,
   "id": "82cea8b4",
   "metadata": {
    "ExecuteTime": {
     "end_time": "2023-10-12T05:40:31.164713Z",
     "start_time": "2023-10-12T05:40:23.251671Z"
    }
   },
   "outputs": [
    {
     "name": "stdout",
     "output_type": "stream",
     "text": [
      "enter string:pjvcvbiuv\n",
      "3\n"
     ]
    }
   ],
   "source": [
    "#13. Find the last occurrence of a word in a string.\n",
    "\n",
    "#enter string\n",
    "string = input('enter string:')\n",
    "#get word\n",
    "a=len(string)\n",
    "word=string[a-1]\n",
    "count=0\n",
    "#counting function\n",
    "for i in string:\n",
    "    if i==word:\n",
    "        count+=1\n",
    "print(count)"
   ]
  },
  {
   "cell_type": "code",
   "execution_count": 21,
   "id": "d40343a5",
   "metadata": {
    "ExecuteTime": {
     "end_time": "2023-10-12T05:46:31.611972Z",
     "start_time": "2023-10-12T05:46:28.426840Z"
    }
   },
   "outputs": [
    {
     "name": "stdout",
     "output_type": "stream",
     "text": [
      "enter string:iihff\n",
      "['i', 'i', 'h', 'f', 'f']\n"
     ]
    }
   ],
   "source": [
    "#14. Split a string into a list of words.\n",
    "\n",
    "#enter string\n",
    "string = input('enter string:')\n",
    "#split string\n",
    "lst=list(string)\n",
    "print(lst)"
   ]
  },
  {
   "cell_type": "code",
   "execution_count": 24,
   "id": "782b94a4",
   "metadata": {
    "ExecuteTime": {
     "end_time": "2023-10-12T06:18:23.430430Z",
     "start_time": "2023-10-12T06:18:23.420815Z"
    }
   },
   "outputs": [
    {
     "name": "stdout",
     "output_type": "stream",
     "text": [
      "pratik\n"
     ]
    }
   ],
   "source": [
    "#15. Join a list of words into a string.\n",
    "\n",
    "lst=['p','r','a','t','i','k']\n",
    "#convert to string\n",
    "output=''\n",
    "for i in lst:\n",
    "    output+=i\n",
    "print(output)"
   ]
  },
  {
   "cell_type": "code",
   "execution_count": 30,
   "id": "75ecfe01",
   "metadata": {
    "ExecuteTime": {
     "end_time": "2023-10-12T06:37:43.700328Z",
     "start_time": "2023-10-12T06:37:32.166863Z"
    }
   },
   "outputs": [
    {
     "name": "stdout",
     "output_type": "stream",
     "text": [
      "enter string:hff igg_jik ihn\n",
      "['hff', 'igg_jik', 'ihn'] ['hff igg', 'jik ihn']\n",
      "hff igg jik ihn ihn\n"
     ]
    }
   ],
   "source": [
    "#16. Convert a string where words are separated by spaces to one where words are separated by underscores.\n",
    "\n",
    "#enter string\n",
    "string = input('enter string:')\n",
    "a=string.split(' ')\n",
    "b=string.split('_')\n",
    "print (a,b)\n",
    "if len(a)>len(b):\n",
    "    length=len(b)\n",
    "else:\n",
    "    length=len(a)\n",
    "i=0\n",
    "string2=string\n",
    "while length>0:\n",
    "    string2=string2.replace(a[i],b[i])\n",
    "    i+=1\n",
    "    length-=1\n",
    "print(string2)\n"
   ]
  },
  {
   "cell_type": "code",
   "execution_count": 32,
   "id": "dc5ae3e6",
   "metadata": {
    "ExecuteTime": {
     "end_time": "2023-10-12T07:04:18.707806Z",
     "start_time": "2023-10-12T07:04:13.578317Z"
    }
   },
   "outputs": [
    {
     "name": "stdout",
     "output_type": "stream",
     "text": [
      "enter string:ffvdf\n",
      "enter wordv\n",
      "not present\n"
     ]
    }
   ],
   "source": [
    "#17. Check if a string starts with a specific word or phrase.\n",
    "\n",
    "#enter string\n",
    "string = input('enter string:')\n",
    "#enter word\n",
    "word = input('enter word')\n",
    "if string[0]==word:\n",
    "    print('present')\n",
    "else:\n",
    "    print('not present')"
   ]
  },
  {
   "cell_type": "code",
   "execution_count": 36,
   "id": "ad1c5cd9",
   "metadata": {
    "ExecuteTime": {
     "end_time": "2023-10-12T07:07:35.817685Z",
     "start_time": "2023-10-12T07:07:31.954257Z"
    }
   },
   "outputs": [
    {
     "name": "stdout",
     "output_type": "stream",
     "text": [
      "enter string:iwife\n",
      "enter worde\n",
      "present\n"
     ]
    }
   ],
   "source": [
    "#18. Check if a string ends with a specific word or phrase.\n",
    "\n",
    "#enter string\n",
    "string = input('enter string:')\n",
    "#enter word\n",
    "word = input('enter word')\n",
    "length=len(string)\n",
    "if string[length-1]==word:\n",
    "    print('present')\n",
    "else:\n",
    "    print('not present')"
   ]
  },
  {
   "cell_type": "code",
   "execution_count": 37,
   "id": "bd9da51b",
   "metadata": {
    "ExecuteTime": {
     "end_time": "2023-10-12T07:10:51.318337Z",
     "start_time": "2023-10-12T07:10:46.156803Z"
    }
   },
   "outputs": [
    {
     "name": "stdout",
     "output_type": "stream",
     "text": [
      "enter string:snsdjf fhs\n",
      "Snsdjf Fhs\n"
     ]
    }
   ],
   "source": [
    "#19. Convert a string to title case (e.g., \"hello world\" to \"Hello World\").\n",
    "\n",
    "#enter string\n",
    "string = input('enter string:')\n",
    "# converting\n",
    "string=string.title()\n",
    "print(string)"
   ]
  },
  {
   "cell_type": "code",
   "execution_count": 38,
   "id": "6bffcbe8",
   "metadata": {
    "ExecuteTime": {
     "end_time": "2023-10-12T07:14:41.040766Z",
     "start_time": "2023-10-12T07:14:30.016178Z"
    }
   },
   "outputs": [
    {
     "name": "stdout",
     "output_type": "stream",
     "text": [
      "enter string:pratik shashikant mandhare\n",
      "shashikant\n"
     ]
    }
   ],
   "source": [
    "#20. Find the longest word in a string.\n",
    "\n",
    "#enter string\n",
    "string = input('enter string:')\n",
    "#spliting string\n",
    "a=string.split(' ')\n",
    "print(max(a))"
   ]
  },
  {
   "cell_type": "code",
   "execution_count": 42,
   "id": "756e835b",
   "metadata": {
    "ExecuteTime": {
     "end_time": "2023-10-12T07:22:37.946915Z",
     "start_time": "2023-10-12T07:22:30.914734Z"
    }
   },
   "outputs": [
    {
     "name": "stdout",
     "output_type": "stream",
     "text": [
      "enter string:pra hah gg hkkh\n",
      "gg\n"
     ]
    }
   ],
   "source": [
    "#21. Find the smallest word in a string.\n",
    "\n",
    "#enter string\n",
    "string = input('enter string:')\n",
    "#spliting string\n",
    "a=string.split(' ')\n",
    "small=a[0]\n",
    "for i in a:\n",
    "    if len(i)<len(small):\n",
    "        small=i\n",
    "print(small)"
   ]
  },
  {
   "cell_type": "code",
   "execution_count": 43,
   "id": "012fc318",
   "metadata": {
    "ExecuteTime": {
     "end_time": "2023-10-12T07:23:53.239634Z",
     "start_time": "2023-10-12T07:23:46.138572Z"
    }
   },
   "outputs": [
    {
     "name": "stdout",
     "output_type": "stream",
     "text": [
      "enter string:pratik\n",
      "kitarp\n"
     ]
    }
   ],
   "source": [
    "#22. Reverse the order of words in a string.\n",
    "\n",
    "#enter string\n",
    "string = input('enter string:')\n",
    "string2=string[::-1]\n",
    "print(string2)"
   ]
  },
  {
   "cell_type": "code",
   "execution_count": 7,
   "id": "b6de3466",
   "metadata": {
    "ExecuteTime": {
     "end_time": "2023-10-19T14:40:09.151260Z",
     "start_time": "2023-10-19T14:40:07.074039Z"
    }
   },
   "outputs": [
    {
     "name": "stdout",
     "output_type": "stream",
     "text": [
      "enter string:hhh\n",
      "True\n"
     ]
    }
   ],
   "source": [
    "#23. Check if a string is alphanumeric.\n",
    "\n",
    "string = input('enter string:')\n",
    "if string.isalnum():\n",
    "    print(True)\n",
    "else:\n",
    "    print(False)"
   ]
  },
  {
   "cell_type": "code",
   "execution_count": 16,
   "id": "afb77125",
   "metadata": {
    "ExecuteTime": {
     "end_time": "2023-10-19T14:57:02.561513Z",
     "start_time": "2023-10-19T14:56:58.653653Z"
    }
   },
   "outputs": [
    {
     "name": "stdout",
     "output_type": "stream",
     "text": [
      "enter string:dj9990sd\n",
      "['9', '9', '9', '0']\n"
     ]
    }
   ],
   "source": [
    "#24. Extract all digits from a string.\n",
    "\n",
    "string = input('enter string:')\n",
    "lst=[]\n",
    "for i in string:\n",
    "    if i.isdigit():\n",
    "        lst.append(i)\n",
    "print(lst)"
   ]
  },
  {
   "cell_type": "code",
   "execution_count": 17,
   "id": "bfe855f1",
   "metadata": {
    "ExecuteTime": {
     "end_time": "2023-10-19T15:03:12.596323Z",
     "start_time": "2023-10-19T15:03:09.508937Z"
    }
   },
   "outputs": [
    {
     "name": "stdout",
     "output_type": "stream",
     "text": [
      "enter string:jdisuuhd882\n",
      "['j', 'd', 'i', 's', 'u', 'u', 'h', 'd']\n"
     ]
    }
   ],
   "source": [
    "# Extract all digits from a string.\n",
    "\n",
    "string = input('enter string:')\n",
    "lst=[]\n",
    "for i in string:\n",
    "    if i.isalpha():\n",
    "        lst.append(i)\n",
    "print(lst)"
   ]
  },
  {
   "cell_type": "code",
   "execution_count": 19,
   "id": "dc17a71c",
   "metadata": {
    "ExecuteTime": {
     "end_time": "2023-10-19T15:06:02.652780Z",
     "start_time": "2023-10-19T15:05:58.557022Z"
    }
   },
   "outputs": [
    {
     "name": "stdout",
     "output_type": "stream",
     "text": [
      "enter string:dfHHio\n",
      "2\n"
     ]
    }
   ],
   "source": [
    "#26. Count the number of uppercase letters in a string.\n",
    "\n",
    "string = input('enter string:')\n",
    "count=0\n",
    "for i in string:\n",
    "    if i.isupper():\n",
    "        count+=1\n",
    "print(count)"
   ]
  },
  {
   "cell_type": "code",
   "execution_count": 20,
   "id": "f6d4a886",
   "metadata": {
    "ExecuteTime": {
     "end_time": "2023-10-19T15:06:55.559012Z",
     "start_time": "2023-10-19T15:06:51.644117Z"
    }
   },
   "outputs": [
    {
     "name": "stdout",
     "output_type": "stream",
     "text": [
      "enter string:hvuuhfHHH\n",
      "6\n"
     ]
    }
   ],
   "source": [
    "#27. Count the number of lowercase letters in a string.\n",
    "\n",
    "string = input('enter string:')\n",
    "count=0\n",
    "for i in string:\n",
    "    if i.islower():\n",
    "        count+=1\n",
    "print(count)"
   ]
  },
  {
   "cell_type": "code",
   "execution_count": 21,
   "id": "4343cd08",
   "metadata": {
    "ExecuteTime": {
     "end_time": "2023-10-19T15:08:40.867479Z",
     "start_time": "2023-10-19T15:08:37.451269Z"
    }
   },
   "outputs": [
    {
     "name": "stdout",
     "output_type": "stream",
     "text": [
      "enter string:udhII\n",
      "UDHii\n"
     ]
    }
   ],
   "source": [
    "#28. Swap the case of each character in a string.\n",
    "\n",
    "string = input('enter string:')\n",
    "string2=string.swapcase()\n",
    "print(string2)"
   ]
  },
  {
   "cell_type": "code",
   "execution_count": 24,
   "id": "894e3b12",
   "metadata": {
    "ExecuteTime": {
     "end_time": "2023-10-19T15:13:26.310483Z",
     "start_time": "2023-10-19T15:13:20.475566Z"
    }
   },
   "outputs": [
    {
     "name": "stdout",
     "output_type": "stream",
     "text": [
      "enter string:jjjsf\n",
      "enter word:j\n",
      "sf\n"
     ]
    }
   ],
   "source": [
    "#29. Remove a specific word from a string.\n",
    "\n",
    "string = input('enter string:')\n",
    "word=input('enter word:')\n",
    "string=string.replace(word,'')\n",
    "print(string)"
   ]
  },
  {
   "cell_type": "code",
   "execution_count": 26,
   "id": "3dc31b17",
   "metadata": {
    "ExecuteTime": {
     "end_time": "2023-10-19T15:16:22.686481Z",
     "start_time": "2023-10-19T15:16:20.975566Z"
    }
   },
   "outputs": [
    {
     "name": "stdout",
     "output_type": "stream",
     "text": [
      "enter string:sdj\n",
      "False\n"
     ]
    }
   ],
   "source": [
    "#30. Check if a string is a valid email address.\n",
    "\n",
    "string = input('enter string:')\n",
    "if string.endswith('@gmail.com'):\n",
    "    print(True)\n",
    "else:\n",
    "    print(False)"
   ]
  },
  {
   "cell_type": "code",
   "execution_count": 27,
   "id": "b0b44e1c",
   "metadata": {
    "ExecuteTime": {
     "end_time": "2023-10-19T15:18:49.966654Z",
     "start_time": "2023-10-19T15:18:38.684884Z"
    }
   },
   "outputs": [
    {
     "name": "stdout",
     "output_type": "stream",
     "text": [
      "enter string:ppr@gmail.com\n",
      "ppr\n"
     ]
    }
   ],
   "source": [
    "#31. Extract the username from an email address string.\n",
    "\n",
    "string = input('enter string:')\n",
    "a=string.split('@')\n",
    "print(a[0])"
   ]
  },
  {
   "cell_type": "code",
   "execution_count": 28,
   "id": "c6b478c9",
   "metadata": {
    "ExecuteTime": {
     "end_time": "2023-10-19T15:19:54.273726Z",
     "start_time": "2023-10-19T15:19:49.442144Z"
    }
   },
   "outputs": [
    {
     "name": "stdout",
     "output_type": "stream",
     "text": [
      "enter string:dfg@gg\n",
      "gg\n"
     ]
    }
   ],
   "source": [
    "#32. Extract the domain name from an email address string.\n",
    "\n",
    "string = input('enter string:')\n",
    "a=string.split('@')\n",
    "print(a[1])"
   ]
  },
  {
   "cell_type": "code",
   "execution_count": 33,
   "id": "51361003",
   "metadata": {
    "ExecuteTime": {
     "end_time": "2023-10-20T04:54:08.906701Z",
     "start_time": "2023-10-20T04:54:04.921785Z"
    }
   },
   "outputs": [
    {
     "name": "stdout",
     "output_type": "stream",
     "text": [
      "enter string:h yg b   yi\n",
      "h yg b yi\n"
     ]
    }
   ],
   "source": [
    "#33. Replace multiple spaces in a string with a single space.\n",
    "\n",
    "string = input('enter string:')\n",
    "string2=\" \".join(string.split())\n",
    "print(string2)"
   ]
  },
  {
   "cell_type": "code",
   "execution_count": 46,
   "id": "89d71f76",
   "metadata": {
    "ExecuteTime": {
     "end_time": "2023-10-20T05:02:58.312432Z",
     "start_time": "2023-10-20T05:02:58.240888Z"
    }
   },
   "outputs": [
    {
     "ename": "ModuleNotFoundError",
     "evalue": "No module named 'validators'",
     "output_type": "error",
     "traceback": [
      "\u001b[1;31m---------------------------------------------------------------------------\u001b[0m",
      "\u001b[1;31mModuleNotFoundError\u001b[0m                       Traceback (most recent call last)",
      "Cell \u001b[1;32mIn[46], line 3\u001b[0m\n\u001b[0;32m      1\u001b[0m \u001b[38;5;66;03m#34. Check if a string is a valid URL.\u001b[39;00m\n\u001b[1;32m----> 3\u001b[0m \u001b[38;5;28;01mimport\u001b[39;00m \u001b[38;5;21;01mvalidators\u001b[39;00m\n\u001b[0;32m      4\u001b[0m string \u001b[38;5;241m=\u001b[39m \u001b[38;5;28minput\u001b[39m(\u001b[38;5;124m'\u001b[39m\u001b[38;5;124menter url:\u001b[39m\u001b[38;5;124m'\u001b[39m)\n\u001b[0;32m      5\u001b[0m validators\u001b[38;5;241m.\u001b[39murl(string)\n",
      "\u001b[1;31mModuleNotFoundError\u001b[0m: No module named 'validators'"
     ]
    }
   ],
   "source": [
    "#34. Check if a string is a valid URL.\n",
    "\n",
    "import validators\n",
    "string = input('enter url:')\n",
    "validators.url(string)"
   ]
  },
  {
   "cell_type": "code",
   "execution_count": 47,
   "id": "4c2bb208",
   "metadata": {
    "ExecuteTime": {
     "end_time": "2023-10-20T05:37:31.615912Z",
     "start_time": "2023-10-20T05:37:03.685839Z"
    }
   },
   "outputs": [
    {
     "name": "stdout",
     "output_type": "stream",
     "text": [
      "enter url:https://docs.python.org/3/library/urllib.parse.html\n"
     ]
    },
    {
     "data": {
      "text/plain": [
       "'https'"
      ]
     },
     "execution_count": 47,
     "metadata": {},
     "output_type": "execute_result"
    }
   ],
   "source": [
    "#35. Extract the protocol (http or https) from a URL string.\n",
    "\n",
    "from urllib.parse import urlparse\n",
    "string = input('enter url:')\n",
    "a=urlparse(string)\n",
    "a.scheme"
   ]
  },
  {
   "cell_type": "code",
   "execution_count": 49,
   "id": "0bdbe999",
   "metadata": {
    "ExecuteTime": {
     "end_time": "2023-10-20T06:19:00.802389Z",
     "start_time": "2023-10-20T06:18:57.652506Z"
    }
   },
   "outputs": [
    {
     "name": "stdout",
     "output_type": "stream",
     "text": [
      "enter string:fjsdnnan\n",
      "{'f': 1, 'j': 1, 's': 1, 'd': 1, 'n': 3, 'a': 1}\n"
     ]
    }
   ],
   "source": [
    "#36. Find the frequency of each character in a string.\n",
    "\n",
    "string = input('enter string:')\n",
    "l={}\n",
    "for i in string:\n",
    "    l[i]=string.count(i)\n",
    "print(l)"
   ]
  },
  {
   "cell_type": "code",
   "execution_count": 59,
   "id": "d8d2e7a3",
   "metadata": {
    "ExecuteTime": {
     "end_time": "2023-10-20T07:05:11.747573Z",
     "start_time": "2023-10-20T07:05:05.333538Z"
    }
   },
   "outputs": [
    {
     "name": "stdout",
     "output_type": "stream",
     "text": [
      "enter string:ln5a556a66^^^fn\n",
      "ln5a556a66fn\n"
     ]
    }
   ],
   "source": [
    "#37. Remove all punctuation from a string.\n",
    "\n",
    "import string\n",
    "string1 = input('enter string:')\n",
    "for i in string.punctuation:\n",
    "    string1=string1.replace(i,'')\n",
    "print(string1)"
   ]
  },
  {
   "cell_type": "code",
   "execution_count": 61,
   "id": "7d6aff82",
   "metadata": {
    "ExecuteTime": {
     "end_time": "2023-10-20T07:10:08.840805Z",
     "start_time": "2023-10-20T07:10:06.643029Z"
    }
   },
   "outputs": [
    {
     "name": "stdout",
     "output_type": "stream",
     "text": [
      "enter string:sjf88\n",
      "False\n"
     ]
    }
   ],
   "source": [
    "#38. Check if a string contains only digits.\n",
    "\n",
    "string = input('enter string:')\n",
    "if string.isnumeric():\n",
    "    print(True)\n",
    "else:\n",
    "    print(False)"
   ]
  },
  {
   "cell_type": "code",
   "execution_count": 63,
   "id": "bbdd7f63",
   "metadata": {
    "ExecuteTime": {
     "end_time": "2023-10-20T07:11:59.899758Z",
     "start_time": "2023-10-20T07:11:57.638571Z"
    }
   },
   "outputs": [
    {
     "name": "stdout",
     "output_type": "stream",
     "text": [
      "enter string:j23hh\n",
      "False\n"
     ]
    }
   ],
   "source": [
    "#39. Check if a string contains only alphabets.\n",
    "\n",
    "string = input('enter string:')\n",
    "if string.isalpha():\n",
    "    print(True)\n",
    "else:\n",
    "    print(False)"
   ]
  },
  {
   "cell_type": "code",
   "execution_count": 64,
   "id": "f0022424",
   "metadata": {
    "ExecuteTime": {
     "end_time": "2023-10-20T07:13:31.689118Z",
     "start_time": "2023-10-20T07:13:28.484374Z"
    }
   },
   "outputs": [
    {
     "name": "stdout",
     "output_type": "stream",
     "text": [
      "enter string:soodf\n",
      "['s', 'o', 'o', 'd', 'f']\n"
     ]
    }
   ],
   "source": [
    "#40. Convert a string to a list of characters.\n",
    "\n",
    "string = input('enter string:')\n",
    "ls=list(string)\n",
    "print(ls)"
   ]
  },
  {
   "cell_type": "code",
   "execution_count": 73,
   "id": "bd955933",
   "metadata": {
    "ExecuteTime": {
     "end_time": "2023-10-20T07:26:22.010819Z",
     "start_time": "2023-10-20T07:26:19.616649Z"
    }
   },
   "outputs": [
    {
     "name": "stdout",
     "output_type": "stream",
     "text": [
      "enter string1:kjjdbf\n",
      "enter string2:fjb\n",
      "['b', 'd', 'f', 'j', 'j', 'k'] ['b', 'f', 'j']\n",
      "False\n"
     ]
    }
   ],
   "source": [
    "#41. Check if two strings are anagrams.\n",
    "\n",
    "string1 = input('enter string1:')\n",
    "string2 = input('enter string2:')\n",
    "\n",
    "l1=list(string1)\n",
    "l2=list(string2)\n",
    "l1.sort()\n",
    "l2.sort()\n",
    "print(l1,l2)\n",
    "if l1==l2:\n",
    "    print(True)\n",
    "else:\n",
    "    print(False)"
   ]
  },
  {
   "cell_type": "code",
   "execution_count": 76,
   "id": "ba273def",
   "metadata": {
    "ExecuteTime": {
     "end_time": "2023-10-20T07:59:56.140800Z",
     "start_time": "2023-10-20T07:59:51.633717Z"
    }
   },
   "outputs": [
    {
     "name": "stdout",
     "output_type": "stream",
     "text": [
      "enter string1:abaak\n",
      "deddn\n"
     ]
    }
   ],
   "source": [
    "#42. Encode a string using a Caesar cipher.\n",
    "\n",
    "string = input('enter string1:')\n",
    "for i in string:\n",
    "    if 64<ord(i)<88 or 96<ord(i)<120:\n",
    "        string=string.replace(i,chr(ord(i)+3))\n",
    "    elif 87<ord(i)<91 or 119<ord(i)<123:\n",
    "        string=string.replace(i,chr(ord(i)-23))\n",
    "print(string)"
   ]
  },
  {
   "cell_type": "code",
   "execution_count": 77,
   "id": "b5a2ea9e",
   "metadata": {
    "ExecuteTime": {
     "end_time": "2023-10-20T08:00:03.955954Z",
     "start_time": "2023-10-20T07:59:58.384991Z"
    }
   },
   "outputs": [
    {
     "name": "stdout",
     "output_type": "stream",
     "text": [
      "enter string1:deddn\n",
      "abaak\n"
     ]
    }
   ],
   "source": [
    "#43. Decode a Caesar cipher encoded string.\n",
    "\n",
    "string = input('enter string1:')\n",
    "for i in string:\n",
    "    if 67<ord(i)<91 or 99<ord(i)<123:\n",
    "        string=string.replace(i,chr(ord(i)-3))\n",
    "    elif 64<ord(i)<68 or 96<ord(i)<100:\n",
    "        string=string.replace(i,chr(ord(i)+23))\n",
    "print(string)"
   ]
  },
  {
   "cell_type": "code",
   "execution_count": 82,
   "id": "d7d42640",
   "metadata": {
    "ExecuteTime": {
     "end_time": "2023-10-20T08:25:57.201315Z",
     "start_time": "2023-10-20T08:25:54.926438Z"
    }
   },
   "outputs": [
    {
     "name": "stdout",
     "output_type": "stream",
     "text": [
      "enter string:fsdfjjjj\n",
      "j\n"
     ]
    }
   ],
   "source": [
    "#44. Find the most frequent word in a string.\n",
    "\n",
    "string = input('enter string:')\n",
    "maxm=0\n",
    "var=0\n",
    "for i in string:\n",
    "    if maxm<string.count(i):\n",
    "        maxm=string.count(i)\n",
    "        var=i\n",
    "print(var)"
   ]
  },
  {
   "cell_type": "code",
   "execution_count": 85,
   "id": "543ff488",
   "metadata": {
    "ExecuteTime": {
     "end_time": "2023-10-20T08:38:15.591310Z",
     "start_time": "2023-10-20T08:38:13.540282Z"
    }
   },
   "outputs": [
    {
     "name": "stdout",
     "output_type": "stream",
     "text": [
      "enter string:vosfosdi\n",
      "v\n",
      "f\n",
      "d\n",
      "i\n"
     ]
    }
   ],
   "source": [
    "#45. Find all unique words in a string.\n",
    "\n",
    "string = input('enter string:')\n",
    "maxm=0\n",
    "count=0\n",
    "for i in string:\n",
    "    count\n",
    "    for j in string:\n",
    "        if i==j:\n",
    "            count+=1\n",
    "    if count==1:\n",
    "        print(i)\n"
   ]
  },
  {
   "cell_type": "code",
   "execution_count": 86,
   "id": "ed9111b7",
   "metadata": {
    "ExecuteTime": {
     "end_time": "2023-10-20T08:51:06.021021Z",
     "start_time": "2023-10-20T08:51:03.673958Z"
    }
   },
   "outputs": [
    {
     "name": "stdout",
     "output_type": "stream",
     "text": [
      "enter string:iuhuyv\n",
      "4\n"
     ]
    }
   ],
   "source": [
    "#46. Count the number of syllables in a string.\n",
    "\n",
    "string = input('enter string:').lower()\n",
    "lst=list('aeiouy')\n",
    "count=0\n",
    "for i in string:\n",
    "    if i in lst:\n",
    "        count+=1\n",
    "print(count)"
   ]
  },
  {
   "cell_type": "code",
   "execution_count": 89,
   "id": "039a8ebb",
   "metadata": {
    "ExecuteTime": {
     "end_time": "2023-10-20T08:57:50.334247Z",
     "start_time": "2023-10-20T08:57:46.538243Z"
    }
   },
   "outputs": [
    {
     "name": "stdout",
     "output_type": "stream",
     "text": [
      "enter string:dfgdsf8&\n",
      "True\n"
     ]
    }
   ],
   "source": [
    "#47. Check if a string contains any special characters.\n",
    "\n",
    "import string\n",
    "string1 = input('enter string:')\n",
    "for i in string1:\n",
    "    if i in string.punctuation:\n",
    "        print(True)\n",
    "        break\n",
    "else:\n",
    "    print(False)\n"
   ]
  },
  {
   "cell_type": "code",
   "execution_count": 94,
   "id": "671b56e8",
   "metadata": {
    "ExecuteTime": {
     "end_time": "2023-10-20T09:09:43.541290Z",
     "start_time": "2023-10-20T09:09:38.818079Z"
    }
   },
   "outputs": [
    {
     "name": "stdout",
     "output_type": "stream",
     "text": [
      "enter string:weuf\n",
      "enter nth word:2\n",
      "e\n"
     ]
    },
    {
     "data": {
      "text/plain": [
       "'wuf'"
      ]
     },
     "execution_count": 94,
     "metadata": {},
     "output_type": "execute_result"
    }
   ],
   "source": [
    "#48. Remove the nth word from a string.\n",
    "\n",
    "string1 = input('enter string:')\n",
    "n=int(input('enter nth word:'))\n",
    "print(string1[n-1])\n",
    "string1.replace(string1[n-1],'')"
   ]
  },
  {
   "cell_type": "code",
   "execution_count": 95,
   "id": "2509c59a",
   "metadata": {
    "ExecuteTime": {
     "end_time": "2023-10-20T09:18:40.044456Z",
     "start_time": "2023-10-20T09:18:26.696377Z"
    }
   },
   "outputs": [
    {
     "name": "stdout",
     "output_type": "stream",
     "text": [
      "enter string:dosff\n",
      "enter nth word:3\n",
      "enter word to add:a\n"
     ]
    },
    {
     "data": {
      "text/plain": [
       "'doasff'"
      ]
     },
     "execution_count": 95,
     "metadata": {},
     "output_type": "execute_result"
    }
   ],
   "source": [
    "#49. Insert a word at the nth position in a string.\n",
    "\n",
    "string1 = input('enter string:')\n",
    "n=int(input('enter nth word:'))\n",
    "var=input('enter word to add:')\n",
    "value=string1[n-1]\n",
    "string1.replace(value,f'{var}{value}')"
   ]
  },
  {
   "cell_type": "code",
   "execution_count": 96,
   "id": "d300eca8",
   "metadata": {
    "ExecuteTime": {
     "end_time": "2023-10-20T13:48:18.189391Z",
     "start_time": "2023-10-20T13:48:18.099650Z"
    }
   },
   "outputs": [],
   "source": [
    "#50. Convert a CSV string to a list of lists."
   ]
  },
  {
   "cell_type": "code",
   "execution_count": null,
   "id": "19e78b3a",
   "metadata": {},
   "outputs": [],
   "source": [
    "\n"
   ]
  },
  {
   "cell_type": "code",
   "execution_count": 97,
   "id": "3a3e6fcd",
   "metadata": {
    "ExecuteTime": {
     "end_time": "2023-10-20T13:59:02.520316Z",
     "start_time": "2023-10-20T13:59:02.515057Z"
    }
   },
   "outputs": [],
   "source": [
    "#                   List Based Practice Problem "
   ]
  },
  {
   "cell_type": "code",
   "execution_count": null,
   "id": "e14cf525",
   "metadata": {},
   "outputs": [],
   "source": [
    "\n"
   ]
  },
  {
   "cell_type": "code",
   "execution_count": 98,
   "id": "c7614066",
   "metadata": {
    "ExecuteTime": {
     "end_time": "2023-10-20T14:00:38.327165Z",
     "start_time": "2023-10-20T14:00:38.302460Z"
    }
   },
   "outputs": [
    {
     "data": {
      "text/plain": [
       "[1, 2, 3, 4, 5, 6, 7, 8, 9, 10]"
      ]
     },
     "execution_count": 98,
     "metadata": {},
     "output_type": "execute_result"
    }
   ],
   "source": [
    "#1. Create a list with integers from 1 to 10.\n",
    "\n",
    "a=range(1,11)\n",
    "list(a)"
   ]
  },
  {
   "cell_type": "code",
   "execution_count": 99,
   "id": "862edd40",
   "metadata": {
    "ExecuteTime": {
     "end_time": "2023-10-20T14:04:08.132183Z",
     "start_time": "2023-10-20T14:04:08.118832Z"
    }
   },
   "outputs": [
    {
     "name": "stdout",
     "output_type": "stream",
     "text": [
      "7\n"
     ]
    }
   ],
   "source": [
    "#2. Find the length of a list without using the `len()` function.\n",
    "\n",
    "lst=[1,2,3,4,5,6,7]\n",
    "count=0\n",
    "for i in lst:\n",
    "    count+=1\n",
    "print(count)    "
   ]
  },
  {
   "cell_type": "code",
   "execution_count": 100,
   "id": "2f2ab46d",
   "metadata": {
    "ExecuteTime": {
     "end_time": "2023-10-20T14:07:59.861946Z",
     "start_time": "2023-10-20T14:07:59.852418Z"
    }
   },
   "outputs": [
    {
     "name": "stdout",
     "output_type": "stream",
     "text": [
      "[1, 2, 3, 4, 5, 6, 7, 8]\n"
     ]
    }
   ],
   "source": [
    "#3. Append an element to the end of a list.\n",
    "\n",
    "lst=[1,2,3,4,5,6,7]\n",
    "lst.append(8)\n",
    "print(lst)"
   ]
  },
  {
   "cell_type": "code",
   "execution_count": 102,
   "id": "b61ec01d",
   "metadata": {
    "ExecuteTime": {
     "end_time": "2023-10-20T14:10:14.946767Z",
     "start_time": "2023-10-20T14:10:11.951174Z"
    }
   },
   "outputs": [
    {
     "name": "stdout",
     "output_type": "stream",
     "text": [
      "enter index:4\n",
      "[1, 2, 3, 4, 5, 5, 6, 7]\n"
     ]
    }
   ],
   "source": [
    "#4. Insert an element at a specific index in a list.\n",
    "\n",
    "lst=[1,2,3,4,5,6,7]\n",
    "index=int(input('enter index:'))\n",
    "lst.insert(index,5)\n",
    "print(lst)"
   ]
  },
  {
   "cell_type": "code",
   "execution_count": 103,
   "id": "75b760c0",
   "metadata": {
    "ExecuteTime": {
     "end_time": "2023-10-20T14:11:36.240969Z",
     "start_time": "2023-10-20T14:11:32.612193Z"
    }
   },
   "outputs": [
    {
     "name": "stdout",
     "output_type": "stream",
     "text": [
      "enter value:3\n",
      "[1, 2, 4, 5, 6, 7]\n"
     ]
    }
   ],
   "source": [
    "#5. Remove an element from a list by its value.\n",
    "\n",
    "lst=[1,2,3,4,5,6,7]\n",
    "value=int(input('enter value:'))\n",
    "lst.remove(value)\n",
    "print(lst)"
   ]
  },
  {
   "cell_type": "code",
   "execution_count": 104,
   "id": "b85eca9b",
   "metadata": {
    "ExecuteTime": {
     "end_time": "2023-10-20T14:12:45.084375Z",
     "start_time": "2023-10-20T14:12:43.203979Z"
    }
   },
   "outputs": [
    {
     "name": "stdout",
     "output_type": "stream",
     "text": [
      "enter index:3\n",
      "[1, 2, 3, 5, 6, 7]\n"
     ]
    }
   ],
   "source": [
    "#6. Remove an element from a list by its index.\n",
    "\n",
    "lst=[1,2,3,4,5,6,7]\n",
    "index=int(input('enter index:'))\n",
    "lst.pop(index)\n",
    "print(lst)"
   ]
  },
  {
   "cell_type": "code",
   "execution_count": 112,
   "id": "3a936360",
   "metadata": {
    "ExecuteTime": {
     "end_time": "2023-10-20T14:19:51.229019Z",
     "start_time": "2023-10-20T14:19:51.221812Z"
    }
   },
   "outputs": [
    {
     "name": "stdout",
     "output_type": "stream",
     "text": [
      "False\n"
     ]
    }
   ],
   "source": [
    "#7. Check if an element exists in a list.\n",
    "\n",
    "lst=[1,2,3,4,5,6,7]\n",
    "if 9 in lst:\n",
    "    print(True)\n",
    "else:\n",
    "    print(False)"
   ]
  },
  {
   "cell_type": "code",
   "execution_count": 110,
   "id": "037b4d2d",
   "metadata": {
    "ExecuteTime": {
     "end_time": "2023-10-20T14:17:40.148035Z",
     "start_time": "2023-10-20T14:17:40.137126Z"
    }
   },
   "outputs": [
    {
     "data": {
      "text/plain": [
       "4"
      ]
     },
     "execution_count": 110,
     "metadata": {},
     "output_type": "execute_result"
    }
   ],
   "source": [
    "#8. Find the index of the first occurrence of an element in a list.\n",
    "\n",
    "lst=[1,2,3,4,5,6,7]\n",
    "lst.index(5)"
   ]
  },
  {
   "cell_type": "code",
   "execution_count": 113,
   "id": "5f26ef68",
   "metadata": {
    "ExecuteTime": {
     "end_time": "2023-10-20T14:21:40.278643Z",
     "start_time": "2023-10-20T14:21:40.267552Z"
    }
   },
   "outputs": [
    {
     "data": {
      "text/plain": [
       "2"
      ]
     },
     "execution_count": 113,
     "metadata": {},
     "output_type": "execute_result"
    }
   ],
   "source": [
    "#9. Count the occurrences of an element in a list.\n",
    "\n",
    "lst=[1,2,3,4,5,6,7,3,5]\n",
    "lst.count(3)"
   ]
  },
  {
   "cell_type": "code",
   "execution_count": 115,
   "id": "18a58b27",
   "metadata": {
    "ExecuteTime": {
     "end_time": "2023-10-20T14:22:44.088002Z",
     "start_time": "2023-10-20T14:22:44.079709Z"
    }
   },
   "outputs": [
    {
     "name": "stdout",
     "output_type": "stream",
     "text": [
      "[5, 3, 7, 6, 5, 4, 3, 2, 1]\n"
     ]
    }
   ],
   "source": [
    "#10. Reverse the order of elements in a list.\n",
    "\n",
    "lst=[1,2,3,4,5,6,7,3,5]\n",
    "lst.reverse()\n",
    "print(lst)"
   ]
  },
  {
   "cell_type": "code",
   "execution_count": 116,
   "id": "2bc5cb00",
   "metadata": {
    "ExecuteTime": {
     "end_time": "2023-10-20T14:23:48.485237Z",
     "start_time": "2023-10-20T14:23:48.475574Z"
    }
   },
   "outputs": [
    {
     "name": "stdout",
     "output_type": "stream",
     "text": [
      "[1, 3, 3, 4, 5, 5, 6, 7, 7, 9]\n"
     ]
    }
   ],
   "source": [
    "#11. Sort a list in ascending order.\n",
    "\n",
    "lst=[7,9,3,4,5,6,7,3,5,1]\n",
    "lst.sort()\n",
    "print(lst)"
   ]
  },
  {
   "cell_type": "code",
   "execution_count": 117,
   "id": "c74e456a",
   "metadata": {
    "ExecuteTime": {
     "end_time": "2023-10-20T14:24:25.660616Z",
     "start_time": "2023-10-20T14:24:25.652160Z"
    }
   },
   "outputs": [
    {
     "name": "stdout",
     "output_type": "stream",
     "text": [
      "[9, 7, 7, 6, 5, 5, 4, 3, 3, 1]\n"
     ]
    }
   ],
   "source": [
    "#12. Sort a list in descending order.\n",
    "\n",
    "lst=[7,9,3,4,5,6,7,3,5,1]\n",
    "lst.sort(reverse=True)\n",
    "print(lst)"
   ]
  },
  {
   "cell_type": "code",
   "execution_count": 120,
   "id": "91427917",
   "metadata": {
    "ExecuteTime": {
     "end_time": "2023-10-20T14:26:17.854793Z",
     "start_time": "2023-10-20T14:26:17.840954Z"
    }
   },
   "outputs": [
    {
     "data": {
      "text/plain": [
       "[2, 4, 6, 8, 10, 12, 14, 16, 18, 20]"
      ]
     },
     "execution_count": 120,
     "metadata": {},
     "output_type": "execute_result"
    }
   ],
   "source": [
    "#13. Create a list of even numbers from 1 to 20.\n",
    "\n",
    "a=range(2,21,2)\n",
    "list(a)"
   ]
  },
  {
   "cell_type": "code",
   "execution_count": 121,
   "id": "ef2ada26",
   "metadata": {
    "ExecuteTime": {
     "end_time": "2023-10-20T14:26:49.473232Z",
     "start_time": "2023-10-20T14:26:49.463729Z"
    }
   },
   "outputs": [
    {
     "data": {
      "text/plain": [
       "[1, 3, 5, 7, 9, 11, 13, 15, 17, 19]"
      ]
     },
     "execution_count": 121,
     "metadata": {},
     "output_type": "execute_result"
    }
   ],
   "source": [
    "#14. Create a list of odd numbers from 1 to 20.\n",
    "\n",
    "a=range(1,21,2)\n",
    "list(a)"
   ]
  },
  {
   "cell_type": "code",
   "execution_count": 122,
   "id": "937f14b5",
   "metadata": {
    "ExecuteTime": {
     "end_time": "2023-10-20T14:29:28.919217Z",
     "start_time": "2023-10-20T14:29:28.910827Z"
    }
   },
   "outputs": [
    {
     "name": "stdout",
     "output_type": "stream",
     "text": [
      "36\n"
     ]
    }
   ],
   "source": [
    "#15. Find the sum of all elements in a list.\n",
    "\n",
    "lst=[1,2,3,4,5,6,7,3,5]\n",
    "count=0\n",
    "for i in lst:\n",
    "    count+=i\n",
    "print(count)"
   ]
  },
  {
   "cell_type": "code",
   "execution_count": 125,
   "id": "02d545ae",
   "metadata": {
    "ExecuteTime": {
     "end_time": "2023-10-20T14:31:17.463257Z",
     "start_time": "2023-10-20T14:31:17.454305Z"
    }
   },
   "outputs": [
    {
     "name": "stdout",
     "output_type": "stream",
     "text": [
      "7\n"
     ]
    }
   ],
   "source": [
    "#16. Find the maximum value in a list.\n",
    "\n",
    "lst=[1,2,3,4,5,6,7,3,5]\n",
    "lst.sort(reverse=True)\n",
    "print(lst[0])"
   ]
  },
  {
   "cell_type": "code",
   "execution_count": 126,
   "id": "4547ab81",
   "metadata": {
    "ExecuteTime": {
     "end_time": "2023-10-20T14:31:40.318517Z",
     "start_time": "2023-10-20T14:31:40.310828Z"
    }
   },
   "outputs": [
    {
     "name": "stdout",
     "output_type": "stream",
     "text": [
      "1\n"
     ]
    }
   ],
   "source": [
    "#17. Find the minimum value in a list.\n",
    "\n",
    "lst=[1,2,3,4,5,6,7,3,5]\n",
    "lst.sort()\n",
    "print(lst[0])"
   ]
  },
  {
   "cell_type": "code",
   "execution_count": 127,
   "id": "654ea199",
   "metadata": {
    "ExecuteTime": {
     "end_time": "2023-10-20T14:34:21.051313Z",
     "start_time": "2023-10-20T14:34:21.033987Z"
    }
   },
   "outputs": [
    {
     "name": "stdout",
     "output_type": "stream",
     "text": [
      "[1, 4, 9, 16, 25, 36, 49, 64, 81, 100]\n"
     ]
    }
   ],
   "source": [
    "#18. Create a list of squares of numbers from 1 to 10.\n",
    "\n",
    "lst=[]\n",
    "for i in range(1,11):\n",
    "    a=i*i\n",
    "    lst.append(a)\n",
    "print(lst)"
   ]
  },
  {
   "cell_type": "code",
   "execution_count": 132,
   "id": "d91e0991",
   "metadata": {
    "ExecuteTime": {
     "end_time": "2023-10-20T14:41:27.021130Z",
     "start_time": "2023-10-20T14:41:27.013452Z"
    }
   },
   "outputs": [
    {
     "name": "stdout",
     "output_type": "stream",
     "text": [
      "[62, 27, 42, 96, 25, 53, 34, 93, 93, 43]\n"
     ]
    }
   ],
   "source": [
    "#19. Create a list of random numbers.\n",
    "\n",
    "import random\n",
    "lst=[]\n",
    "for i in range(1,11):\n",
    "    a=int((random.random()*100)//1)\n",
    "    lst.append(a)\n",
    "print(lst)"
   ]
  },
  {
   "cell_type": "code",
   "execution_count": 144,
   "id": "c70365ee",
   "metadata": {
    "ExecuteTime": {
     "end_time": "2023-10-20T17:37:15.271162Z",
     "start_time": "2023-10-20T17:37:15.262595Z"
    },
    "scrolled": true
   },
   "outputs": [
    {
     "name": "stdout",
     "output_type": "stream",
     "text": [
      "{1, 2, 3, 4, 5, 6, 7}\n"
     ]
    }
   ],
   "source": [
    "#20. Remove duplicates from a list.\n",
    "\n",
    "lst=[1,2,3,4,5,6,7,3,5]\n",
    "a=set(lst)\n",
    "print(a)"
   ]
  },
  {
   "cell_type": "code",
   "execution_count": 169,
   "id": "284db009",
   "metadata": {
    "ExecuteTime": {
     "end_time": "2023-10-20T18:04:42.543212Z",
     "start_time": "2023-10-20T18:04:42.533546Z"
    }
   },
   "outputs": [
    {
     "name": "stdout",
     "output_type": "stream",
     "text": [
      "{2, 3, 5}\n"
     ]
    }
   ],
   "source": [
    "#21. Find the common elements between two lists.\n",
    "\n",
    "lst1=[1,2,3,4,5,6,7,3,5]\n",
    "lst2=[5,3,2,66,76,78,8]\n",
    "lst3=[]\n",
    "for i in lst1:\n",
    "    for j in lst2:\n",
    "        if i==j:\n",
    "            lst3.append(i)\n",
    "a=set(lst3)\n",
    "print(a)\n"
   ]
  },
  {
   "cell_type": "code",
   "execution_count": 177,
   "id": "c6fa36f4",
   "metadata": {
    "ExecuteTime": {
     "end_time": "2023-10-20T18:08:01.298809Z",
     "start_time": "2023-10-20T18:08:01.289557Z"
    }
   },
   "outputs": [
    {
     "name": "stdout",
     "output_type": "stream",
     "text": [
      "[8, 66, 76, 78, 1, 4, 6, 7]\n"
     ]
    }
   ],
   "source": [
    "#22. Find the difference between two lists.\n",
    "\n",
    "lst1=[1,2,3,4,5,6,7,3,5]\n",
    "lst2=[5,3,2,66,76,78,8]\n",
    "a=set(lst1)\n",
    "b=set(lst2)\n",
    "c=list(a-b)\n",
    "d=list(b-a)\n",
    "print(d+c)\n"
   ]
  },
  {
   "cell_type": "code",
   "execution_count": 178,
   "id": "9515752c",
   "metadata": {
    "ExecuteTime": {
     "end_time": "2023-10-20T18:09:04.155980Z",
     "start_time": "2023-10-20T18:09:04.143304Z"
    }
   },
   "outputs": [
    {
     "data": {
      "text/plain": [
       "[1, 2, 3, 4, 5, 6, 7, 3, 5, 5, 3, 2, 66, 76, 78, 8]"
      ]
     },
     "execution_count": 178,
     "metadata": {},
     "output_type": "execute_result"
    }
   ],
   "source": [
    "#23. Merge two lists.\n",
    "\n",
    "lst1=[1,2,3,4,5,6,7,3,5]\n",
    "lst2=[5,3,2,66,76,78,8]\n",
    "lst1+lst2"
   ]
  },
  {
   "cell_type": "code",
   "execution_count": 1,
   "id": "4ae6b1ba",
   "metadata": {
    "ExecuteTime": {
     "end_time": "2023-10-20T18:12:47.422958Z",
     "start_time": "2023-10-20T18:12:47.319708Z"
    }
   },
   "outputs": [
    {
     "name": "stdout",
     "output_type": "stream",
     "text": [
      "[2, 4, 6, 8, 10, 12, 14, 6, 10]\n"
     ]
    }
   ],
   "source": [
    "#24. Multiply all elements in a list by 2.\n",
    "\n",
    "lst1=[1,2,3,4,5,6,7,3,5]\n",
    "lst2=[]\n",
    "for i in lst1:\n",
    "    i*=2\n",
    "    lst2.append(i)\n",
    "print(lst2)"
   ]
  },
  {
   "cell_type": "code",
   "execution_count": 1,
   "id": "d414895d",
   "metadata": {
    "ExecuteTime": {
     "end_time": "2023-10-20T18:16:12.111564Z",
     "start_time": "2023-10-20T18:16:12.092885Z"
    }
   },
   "outputs": [
    {
     "data": {
      "text/plain": [
       "[2, 4, 6]"
      ]
     },
     "execution_count": 1,
     "metadata": {},
     "output_type": "execute_result"
    }
   ],
   "source": [
    "#25. Filter out all even numbers from a list.\n",
    "\n",
    "lst1=[1,2,3,4,5,6,7,3,5]\n",
    "lst2=[]\n",
    "for i in lst1:\n",
    "    if i%2==0:\n",
    "        lst2.append(i)\n",
    "lst2"
   ]
  },
  {
   "cell_type": "code",
   "execution_count": 3,
   "id": "0941bf19",
   "metadata": {
    "ExecuteTime": {
     "end_time": "2023-10-23T05:26:01.901729Z",
     "start_time": "2023-10-23T05:26:01.824343Z"
    }
   },
   "outputs": [
    {
     "name": "stdout",
     "output_type": "stream",
     "text": [
      "[1, 2, 3, 4, 5, 6]\n"
     ]
    }
   ],
   "source": [
    "#26. Convert a list of strings to a list of integers.\n",
    "\n",
    "lst1=['1','2','3','4','5','6']\n",
    "lst2=[]\n",
    "for i in lst1:\n",
    "    lst2.append(int(i))\n",
    "print(lst2)"
   ]
  },
  {
   "cell_type": "code",
   "execution_count": 6,
   "id": "53bb4630",
   "metadata": {
    "ExecuteTime": {
     "end_time": "2023-10-23T05:28:11.563414Z",
     "start_time": "2023-10-23T05:28:11.553960Z"
    }
   },
   "outputs": [
    {
     "name": "stdout",
     "output_type": "stream",
     "text": [
      "['1', '2', '3', '4', '5', '6', '7']\n"
     ]
    }
   ],
   "source": [
    "#27. Convert a list of integers to a list of strings.\n",
    "\n",
    "lst1=[1,2,3,4,5,6,7]\n",
    "lst2=[]\n",
    "for i in lst1:\n",
    "    lst2.append(str(i))\n",
    "print(lst2)"
   ]
  },
  {
   "cell_type": "code",
   "execution_count": 19,
   "id": "4d3f602a",
   "metadata": {
    "ExecuteTime": {
     "end_time": "2023-10-23T10:28:12.062384Z",
     "start_time": "2023-10-23T10:28:12.036303Z"
    }
   },
   "outputs": [
    {
     "data": {
      "text/plain": [
       "[1, 2, 3, 4, 5, 6, 7, 9, 10, 11]"
      ]
     },
     "execution_count": 19,
     "metadata": {},
     "output_type": "execute_result"
    }
   ],
   "source": [
    "#28. Flatten a nested list.\n",
    "\n",
    "import numpy\n",
    "lst1=[1,2,3,4,[5,6,7,[9,10]],11]\n",
    "lst2=[]\n",
    "def flatten(l):\n",
    "    for i in l:\n",
    "        if type(i)==list:\n",
    "            flatten(i)\n",
    "        else:\n",
    "            lst2.append(i)\n",
    "flatten(lst1)\n",
    "lst2"
   ]
  },
  {
   "cell_type": "code",
   "execution_count": 24,
   "id": "8a17b0aa",
   "metadata": {
    "ExecuteTime": {
     "end_time": "2023-10-23T10:48:28.565060Z",
     "start_time": "2023-10-23T10:48:28.556439Z"
    },
    "code_folding": []
   },
   "outputs": [
    {
     "name": "stdout",
     "output_type": "stream",
     "text": [
      "[0, 1, 1, 2, 3, 5, 8, 13, 21, 34]\n"
     ]
    }
   ],
   "source": [
    "#29. Create a list of the first 10 Fibonacci numbers.\n",
    "\n",
    "lst=[0,1]\n",
    "num1=0\n",
    "num2=1\n",
    "for i in range(0,8):\n",
    "    num2=num1+num2\n",
    "    num1=num2-num1\n",
    "#     lst.append(num1)\n",
    "    lst.append(num2)\n",
    "print(lst)\n",
    "    "
   ]
  },
  {
   "cell_type": "code",
   "execution_count": 37,
   "id": "23c80be4",
   "metadata": {
    "ExecuteTime": {
     "end_time": "2023-10-23T10:58:40.147857Z",
     "start_time": "2023-10-23T10:58:40.139640Z"
    }
   },
   "outputs": [
    {
     "name": "stdout",
     "output_type": "stream",
     "text": [
      "sorted\n"
     ]
    }
   ],
   "source": [
    "#30. Check if a list is sorted.\n",
    "\n",
    "lst1=[1,2,3,4]\n",
    "lst2=[]\n",
    "for i in lst1:\n",
    "    lst2.append(i)\n",
    "lst2.sort()\n",
    "if lst2==lst1:\n",
    "    print('sorted')\n",
    "else:\n",
    "    print('not')"
   ]
  },
  {
   "cell_type": "code",
   "execution_count": 7,
   "id": "2af3e2cf",
   "metadata": {
    "ExecuteTime": {
     "end_time": "2023-11-03T12:40:48.513533Z",
     "start_time": "2023-11-03T12:40:48.500033Z"
    }
   },
   "outputs": [
    {
     "name": "stdout",
     "output_type": "stream",
     "text": [
      "[4, 5, 6, 7, 8, 9, 1, 2, 3]\n"
     ]
    }
   ],
   "source": [
    "#31. Rotate a list to the left by `n` positions.\n",
    "\n",
    "arr = [1, 2, 3, 4, 5, 6, 7,8,9]\n",
    "arr1=[]\n",
    "a=0\n",
    "n = 3\n",
    "i=0\n",
    "while i<=len(arr)-1:\n",
    "    if i>=(n):\n",
    "        arr1.insert(a,arr[i])\n",
    "        a+=1\n",
    "        \n",
    "    if i <(n):\n",
    "        arr1.append(arr[i])\n",
    "        \n",
    "    i+=1\n",
    "    \n",
    "print(arr1)"
   ]
  },
  {
   "cell_type": "code",
   "execution_count": null,
   "id": "06457e28",
   "metadata": {},
   "outputs": [],
   "source": [
    "#32. Rotate a list to the right by `n` positions.\n",
    "\n",
    "arr = [1, 2, 3, 4, 5, 6, 7,8,9]\n",
    "arr1=[]\n",
    "a=0\n",
    "n = 3\n",
    "i=0\n",
    "while i<=len(arr)-1:\n",
    "    if i>=(len(arr)-n):\n",
    "        arr1.insert(a,arr[i])\n",
    "        a+=1\n",
    "        \n",
    "    if i <(len(arr)-n):\n",
    "        arr1.append(arr[i])\n",
    "    i+=1\n",
    "    \n",
    "print(arr1)"
   ]
  },
  {
   "cell_type": "code",
   "execution_count": 1,
   "id": "e310b993",
   "metadata": {
    "ExecuteTime": {
     "end_time": "2023-11-09T11:38:41.268127Z",
     "start_time": "2023-11-09T11:38:40.918183Z"
    }
   },
   "outputs": [
    {
     "name": "stdout",
     "output_type": "stream",
     "text": [
      "[2, 3, 5, 7, 11, 13, 17, 19, 23, 29, 31, 37, 41, 43, 47]\n"
     ]
    }
   ],
   "source": [
    "#33. Create a list of prime numbers up to 50.\n",
    "\n",
    "lst=[]\n",
    "count=0\n",
    "for i in range(2,51):\n",
    "    count=0\n",
    "    for j in range(2,i):\n",
    "        if i%j==0:\n",
    "#             print(i)\n",
    "            count+=1\n",
    "    if count==0:\n",
    "        lst.append(i)\n",
    "print(lst)"
   ]
  },
  {
   "cell_type": "code",
   "execution_count": 11,
   "id": "dae99994",
   "metadata": {
    "ExecuteTime": {
     "end_time": "2023-11-09T11:44:54.145052Z",
     "start_time": "2023-11-09T11:44:54.136196Z"
    }
   },
   "outputs": [
    {
     "name": "stdout",
     "output_type": "stream",
     "text": [
      "[1, 2, 3]\n",
      "[4, 5, 6]\n",
      "[7, 8, 9]\n"
     ]
    }
   ],
   "source": [
    "#34. Split a list into chunks of size `n`.\n",
    "\n",
    "my_list = [1, 2, 3, 4, 5, 6, 7, 8, 9] \n",
    "start = 0\n",
    "end = len(my_list) \n",
    "step = 3\n",
    "for i in range(start, end, step): \n",
    "    x = i \n",
    "    print(my_list[x:x+step])"
   ]
  },
  {
   "cell_type": "code",
   "execution_count": 10,
   "id": "4bb77446",
   "metadata": {
    "ExecuteTime": {
     "end_time": "2023-11-09T11:42:53.559742Z",
     "start_time": "2023-11-09T11:42:53.551359Z"
    }
   },
   "outputs": [
    {
     "name": "stdout",
     "output_type": "stream",
     "text": [
      "9\n"
     ]
    }
   ],
   "source": [
    "#35. Find the second largest number in a list.\n",
    "\n",
    "my_list = [5,7,2,4,9,22,3,8]\n",
    "my_list.sort()\n",
    "print(my_list[len(my_list)-2])"
   ]
  },
  {
   "cell_type": "code",
   "execution_count": 3,
   "id": "354c585f",
   "metadata": {
    "ExecuteTime": {
     "end_time": "2023-11-09T11:39:21.715233Z",
     "start_time": "2023-11-09T11:39:21.705198Z"
    }
   },
   "outputs": [
    {
     "name": "stdout",
     "output_type": "stream",
     "text": [
      "[1, 4, 9, 16, 25, 36, 4, 64, 81]\n"
     ]
    }
   ],
   "source": [
    "#36. Replace every element in a list with its square.\n",
    "\n",
    "my_list = [1, 2, 3, 4, 5, 6, 2, 8, 9] \n",
    "for i in range(0,len(my_list)):\n",
    "    my_list[i]=my_list[i]**2\n",
    "print(my_list)"
   ]
  },
  {
   "cell_type": "code",
   "execution_count": 4,
   "id": "f1c398d9",
   "metadata": {
    "ExecuteTime": {
     "end_time": "2023-11-09T11:39:35.003492Z",
     "start_time": "2023-11-09T11:39:34.991905Z"
    }
   },
   "outputs": [
    {
     "data": {
      "text/plain": [
       "{0: 'pratik', 1: 'mandhare', 2: 'shashikant'}"
      ]
     },
     "execution_count": 4,
     "metadata": {},
     "output_type": "execute_result"
    }
   ],
   "source": [
    "#37. Convert a list to a dictionary where list elements become keys and their indices become values.\n",
    "\n",
    "my_list = ['pratik','mandhare','shashikant']\n",
    "a = enumerate(my_list)\n",
    "dict(a)"
   ]
  },
  {
   "cell_type": "code",
   "execution_count": 5,
   "id": "49e8416d",
   "metadata": {
    "ExecuteTime": {
     "end_time": "2023-11-09T11:39:48.424377Z",
     "start_time": "2023-11-09T11:39:48.406425Z"
    }
   },
   "outputs": [
    {
     "data": {
      "text/plain": [
       "[6, 2, 1, 3, 2, 5, 9, 4, 8]"
      ]
     },
     "execution_count": 5,
     "metadata": {},
     "output_type": "execute_result"
    }
   ],
   "source": [
    "#38. Shuffle the elements of a list randomly.\n",
    "\n",
    "import random\n",
    "my_list = [1, 2, 3, 4, 5, 6, 2, 8, 9] \n",
    "random.shuffle(my_list)\n",
    "my_list"
   ]
  },
  {
   "cell_type": "code",
   "execution_count": 13,
   "id": "c8f1dbbd",
   "metadata": {
    "ExecuteTime": {
     "end_time": "2023-11-09T12:03:41.076660Z",
     "start_time": "2023-11-09T12:03:41.068205Z"
    }
   },
   "outputs": [
    {
     "name": "stdout",
     "output_type": "stream",
     "text": [
      "[1, 1, 2, 6, 24, 120, 720, 5040, 40320, 362880, 3628800]\n"
     ]
    }
   ],
   "source": [
    "# 39. Create a list of the first 10 factorial numbers.\n",
    "\n",
    "lst=[]\n",
    "n=10\n",
    "def fact(a):\n",
    "    if a<=1:\n",
    "        return 1\n",
    "    else:\n",
    "        return a*fact(a-1)\n",
    "\n",
    "for i in range(0,n+1):\n",
    "    val = fact(i)\n",
    "    lst.append(val)\n",
    "\n",
    "print(lst)"
   ]
  },
  {
   "cell_type": "code",
   "execution_count": 15,
   "id": "1c8edbb0",
   "metadata": {
    "ExecuteTime": {
     "end_time": "2023-11-09T15:22:03.353518Z",
     "start_time": "2023-11-09T15:22:03.279430Z"
    }
   },
   "outputs": [
    {
     "name": "stdout",
     "output_type": "stream",
     "text": [
      "True\n",
      "False\n"
     ]
    }
   ],
   "source": [
    "#40. Check if two lists have at least one element in common.\n",
    "\n",
    "lst1=[4,6,3,7]\n",
    "lst2=[2,9,8,3]\n",
    "\n",
    "for i in lst1:\n",
    "    if i in lst2:\n",
    "        print(True)    "
   ]
  },
  {
   "cell_type": "code",
   "execution_count": 16,
   "id": "9fe1af9d",
   "metadata": {
    "ExecuteTime": {
     "end_time": "2023-11-10T06:42:19.711325Z",
     "start_time": "2023-11-10T06:42:19.685160Z"
    }
   },
   "outputs": [
    {
     "data": {
      "text/plain": [
       "[]"
      ]
     },
     "execution_count": 16,
     "metadata": {},
     "output_type": "execute_result"
    }
   ],
   "source": [
    "#41. Remove all elements from a list.\n",
    "\n",
    "lst=[1,2,3,4,5,6]\n",
    "lst.clear()\n",
    "lst"
   ]
  },
  {
   "cell_type": "code",
   "execution_count": 19,
   "id": "e6ddb01a",
   "metadata": {
    "ExecuteTime": {
     "end_time": "2023-11-10T06:47:09.014700Z",
     "start_time": "2023-11-10T06:47:09.004216Z"
    }
   },
   "outputs": [
    {
     "name": "stdout",
     "output_type": "stream",
     "text": [
      "[0, 0, 3, 0, 5, 0]\n"
     ]
    }
   ],
   "source": [
    "#42. Replace negative numbers in a list with 0.\n",
    "\n",
    "lst=[-1,-2,3,-4,5,-6]\n",
    "for i in range(len(lst)):\n",
    "    if lst[i]<0:\n",
    "        lst[i]=0\n",
    "        \n",
    "print(lst)"
   ]
  },
  {
   "cell_type": "code",
   "execution_count": 20,
   "id": "c46d747d",
   "metadata": {
    "ExecuteTime": {
     "end_time": "2023-11-10T06:48:23.924252Z",
     "start_time": "2023-11-10T06:48:23.917350Z"
    }
   },
   "outputs": [
    {
     "name": "stdout",
     "output_type": "stream",
     "text": [
      "['p', 'r', 'a', 't', 'i', 'k']\n"
     ]
    }
   ],
   "source": [
    "#43. Convert a string into a list of words.\n",
    "\n",
    "val='pratik'\n",
    "lst=list(val)\n",
    "print(lst)"
   ]
  },
  {
   "cell_type": "code",
   "execution_count": 24,
   "id": "831973e1",
   "metadata": {
    "ExecuteTime": {
     "end_time": "2023-11-10T07:01:21.473257Z",
     "start_time": "2023-11-10T07:01:21.465448Z"
    }
   },
   "outputs": [
    {
     "name": "stdout",
     "output_type": "stream",
     "text": [
      "pratik\n"
     ]
    }
   ],
   "source": [
    "#44. Convert a list of words into a string.\n",
    "\n",
    "lst=['p', 'r', 'a', 't', 'i', 'k']\n",
    "word=''\n",
    "for i in lst:\n",
    "    word+=i\n",
    "print(word)"
   ]
  },
  {
   "cell_type": "code",
   "execution_count": 25,
   "id": "56e63158",
   "metadata": {
    "ExecuteTime": {
     "end_time": "2023-11-11T06:42:25.139134Z",
     "start_time": "2023-11-11T06:42:25.115895Z"
    }
   },
   "outputs": [
    {
     "name": "stdout",
     "output_type": "stream",
     "text": [
      "[1, 2, 4, 8, 16, 32, 64, 128, 256, 512, 1024]\n"
     ]
    }
   ],
   "source": [
    "##45. Create a list of the first `n` powers of 2.\n",
    "n=10\n",
    "lst=[]\n",
    "for i in range(n+1):\n",
    "    lst.append(2**i)\n",
    "print(lst)"
   ]
  },
  {
   "cell_type": "code",
   "execution_count": 30,
   "id": "5c817d9a",
   "metadata": {
    "ExecuteTime": {
     "end_time": "2023-11-11T06:48:16.016102Z",
     "start_time": "2023-11-11T06:48:16.005044Z"
    }
   },
   "outputs": [
    {
     "data": {
      "text/plain": [
       "'shivanjali'"
      ]
     },
     "execution_count": 30,
     "metadata": {},
     "output_type": "execute_result"
    }
   ],
   "source": [
    "#46. Find the longest string in a list of strings.\n",
    "\n",
    "lst=['pratik','aishwarya','shivanjali','gauri']\n",
    "high=''\n",
    "for i in lst:\n",
    "    if len(i)>len(high):\n",
    "        high=i\n",
    "high"
   ]
  },
  {
   "cell_type": "code",
   "execution_count": 31,
   "id": "10a91560",
   "metadata": {
    "ExecuteTime": {
     "end_time": "2023-11-11T06:50:19.590367Z",
     "start_time": "2023-11-11T06:50:19.578991Z"
    }
   },
   "outputs": [
    {
     "data": {
      "text/plain": [
       "'gauri'"
      ]
     },
     "execution_count": 31,
     "metadata": {},
     "output_type": "execute_result"
    }
   ],
   "source": [
    "#47. Find the shortest string in a list of strings.\n",
    "\n",
    "lst=['pratik','aishwarya','shivanjali','gauri']\n",
    "low=lst[0]\n",
    "for i in lst:\n",
    "    if len(i)<len(low):\n",
    "        low=i\n",
    "low"
   ]
  },
  {
   "cell_type": "code",
   "execution_count": 40,
   "id": "c61256da",
   "metadata": {
    "ExecuteTime": {
     "end_time": "2023-11-11T07:02:47.454259Z",
     "start_time": "2023-11-11T07:02:47.441330Z"
    }
   },
   "outputs": [
    {
     "data": {
      "text/plain": [
       "[1, 3, 6, 10, 15, 21, 28, 36, 45, 55]"
      ]
     },
     "execution_count": 40,
     "metadata": {},
     "output_type": "execute_result"
    }
   ],
   "source": [
    "#48. Create a list of the first `n` triangular numbers.\n",
    "\n",
    "n=10\n",
    "val=1\n",
    "val1=1\n",
    "lst=[]\n",
    "for i in range(n):\n",
    "    \n",
    "    lst.append(val)\n",
    "    val+=val1\n",
    "    if val==1:\n",
    "        val+=2\n",
    "    else:\n",
    "        val+=1\n",
    "        val1+=1\n",
    "lst"
   ]
  },
  {
   "cell_type": "code",
   "execution_count": 48,
   "id": "5eb79a1f",
   "metadata": {
    "ExecuteTime": {
     "end_time": "2023-11-11T07:07:07.972157Z",
     "start_time": "2023-11-11T07:07:07.965974Z"
    }
   },
   "outputs": [],
   "source": [
    "#49. Check if a list contains another list as a subsequence.\n",
    "\n",
    "lst=[1,2,3,4,5,[7,8]]\n",
    "for i in lst:\n",
    "    if type(i)==list:\n",
    "        print('it contains list')"
   ]
  },
  {
   "cell_type": "code",
   "execution_count": 59,
   "id": "3acdcffd",
   "metadata": {
    "ExecuteTime": {
     "end_time": "2023-11-11T07:31:52.917667Z",
     "start_time": "2023-11-11T07:31:52.902384Z"
    }
   },
   "outputs": [
    {
     "name": "stdout",
     "output_type": "stream",
     "text": [
      "sid rahul\n"
     ]
    },
    {
     "data": {
      "text/plain": [
       "['pratik', 'rahul', 'tejas', 'sid', 'mane']"
      ]
     },
     "execution_count": 59,
     "metadata": {},
     "output_type": "execute_result"
    }
   ],
   "source": [
    "#50. Swap two elements in a list by their indices.\n",
    "\n",
    "lst=['pratik','sid','tejas','rahul','mane']\n",
    "index1=1\n",
    "index2=3\n",
    "val1=lst[index1]\n",
    "val2=lst[index2]\n",
    "print(val1,val2)\n",
    "for i in range(len(lst)):\n",
    "    if i==index1:\n",
    "        lst[i]=val2\n",
    "    if i==index2:\n",
    "        lst[i]=val1\n",
    "        \n",
    "lst"
   ]
  },
  {
   "cell_type": "code",
   "execution_count": null,
   "id": "70243ed9",
   "metadata": {},
   "outputs": [],
   "source": []
  },
  {
   "cell_type": "code",
   "execution_count": 60,
   "id": "c761a230",
   "metadata": {
    "ExecuteTime": {
     "end_time": "2023-11-11T07:35:26.836079Z",
     "start_time": "2023-11-11T07:35:26.831064Z"
    }
   },
   "outputs": [],
   "source": [
    "#---------------Tuple Based Practice Problem :---------------------"
   ]
  },
  {
   "cell_type": "code",
   "execution_count": null,
   "id": "6731b8ff",
   "metadata": {},
   "outputs": [],
   "source": []
  },
  {
   "cell_type": "code",
   "execution_count": 61,
   "id": "1b55cfa9",
   "metadata": {
    "ExecuteTime": {
     "end_time": "2023-11-11T07:50:35.446114Z",
     "start_time": "2023-11-11T07:50:35.436197Z"
    }
   },
   "outputs": [
    {
     "name": "stdout",
     "output_type": "stream",
     "text": [
      "(1, 2, 3, 4, 5)\n"
     ]
    }
   ],
   "source": [
    "#1. Create a tuple with integers from 1 to 5.\n",
    "\n",
    "tup=(1,2,3,4,5)\n",
    "print(tup)"
   ]
  },
  {
   "cell_type": "code",
   "execution_count": 62,
   "id": "48ccfdc4",
   "metadata": {
    "ExecuteTime": {
     "end_time": "2023-11-11T07:52:03.932311Z",
     "start_time": "2023-11-11T07:52:03.922328Z"
    }
   },
   "outputs": [
    {
     "data": {
      "text/plain": [
       "'gauri'"
      ]
     },
     "execution_count": 62,
     "metadata": {},
     "output_type": "execute_result"
    }
   ],
   "source": [
    "#2. Access the third element of a tuple.\n",
    "\n",
    "tup = ('pratik','mandhare','gauri','shiva','yoou')\n",
    "tup[2]"
   ]
  },
  {
   "cell_type": "code",
   "execution_count": 63,
   "id": "1d26a8d4",
   "metadata": {
    "ExecuteTime": {
     "end_time": "2023-11-11T07:53:10.112415Z",
     "start_time": "2023-11-11T07:53:10.104075Z"
    }
   },
   "outputs": [
    {
     "name": "stdout",
     "output_type": "stream",
     "text": [
      "5\n"
     ]
    }
   ],
   "source": [
    "#3. Find the length of a tuple without using the `len()` function.\n",
    "\n",
    "length=0\n",
    "tup = ('pratik','mandhare','gauri','shiva','yoou')\n",
    "for i in tup:\n",
    "    length+=1\n",
    "print(length)"
   ]
  },
  {
   "cell_type": "code",
   "execution_count": 66,
   "id": "efde34cc",
   "metadata": {
    "ExecuteTime": {
     "end_time": "2023-11-11T07:54:58.204141Z",
     "start_time": "2023-11-11T07:54:58.196342Z"
    }
   },
   "outputs": [
    {
     "name": "stdout",
     "output_type": "stream",
     "text": [
      "2\n"
     ]
    }
   ],
   "source": [
    "#4. Count the occurrences of an element in a tuple.\n",
    "\n",
    "length=0\n",
    "ele='pratik'\n",
    "tup = ('pratik','mandhare','gauri','shiva','yoou','pratik')\n",
    "for i in tup:\n",
    "    if i==ele:\n",
    "        length+=1\n",
    "print(length)"
   ]
  },
  {
   "cell_type": "code",
   "execution_count": 67,
   "id": "c27f4fd9",
   "metadata": {
    "ExecuteTime": {
     "end_time": "2023-11-11T07:57:58.920831Z",
     "start_time": "2023-11-11T07:57:58.910405Z"
    }
   },
   "outputs": [
    {
     "data": {
      "text/plain": [
       "0"
      ]
     },
     "execution_count": 67,
     "metadata": {},
     "output_type": "execute_result"
    }
   ],
   "source": [
    "#5. Find the index of the first occurrence of an element in a tuple.\n",
    "\n",
    "ele='pratik'\n",
    "tup = ('pratik','mandhare','gauri','shiva','yoou','pratik')\n",
    "ind=tup.index('pratik')\n",
    "ind"
   ]
  },
  {
   "cell_type": "code",
   "execution_count": 70,
   "id": "6c5e532f",
   "metadata": {
    "ExecuteTime": {
     "end_time": "2023-11-11T07:59:32.529492Z",
     "start_time": "2023-11-11T07:59:32.521415Z"
    }
   },
   "outputs": [
    {
     "name": "stdout",
     "output_type": "stream",
     "text": [
      "exist\n"
     ]
    }
   ],
   "source": [
    "#6. Check if an element exists in a tuple.\n",
    "\n",
    "ele='pratik'\n",
    "tup = ('pratik','mandhare','gauri','shiva','yoou','pratik')\n",
    "if ele in tup:\n",
    "    print('exist')"
   ]
  },
  {
   "cell_type": "code",
   "execution_count": 71,
   "id": "b46addaa",
   "metadata": {
    "ExecuteTime": {
     "end_time": "2023-11-11T08:00:39.857744Z",
     "start_time": "2023-11-11T08:00:39.847485Z"
    }
   },
   "outputs": [
    {
     "data": {
      "text/plain": [
       "['pratik', 'mandhare', 'gauri', 'shiva', 'yoou', 'pratik']"
      ]
     },
     "execution_count": 71,
     "metadata": {},
     "output_type": "execute_result"
    }
   ],
   "source": [
    "#7. Convert a tuple to a list.\n",
    "\n",
    "tup = ('pratik','mandhare','gauri','shiva','yoou','pratik')\n",
    "lst=list(tup)\n",
    "lst"
   ]
  },
  {
   "cell_type": "code",
   "execution_count": 72,
   "id": "17361bda",
   "metadata": {
    "ExecuteTime": {
     "end_time": "2023-11-11T08:01:55.259635Z",
     "start_time": "2023-11-11T08:01:55.246008Z"
    }
   },
   "outputs": [
    {
     "data": {
      "text/plain": [
       "('pratik', 'mandhare', 'gauri', 'shiva', 'yoou', 'pratik')"
      ]
     },
     "execution_count": 72,
     "metadata": {},
     "output_type": "execute_result"
    }
   ],
   "source": [
    "#8. Convert a list to a tuple.\n",
    "\n",
    "lst =['pratik','mandhare','gauri','shiva','yoou','pratik']\n",
    "tup=tuple(lst)\n",
    "tup"
   ]
  },
  {
   "cell_type": "code",
   "execution_count": 73,
   "id": "2b9ae800",
   "metadata": {
    "ExecuteTime": {
     "end_time": "2023-11-11T08:03:47.691058Z",
     "start_time": "2023-11-11T08:03:47.683546Z"
    }
   },
   "outputs": [
    {
     "name": "stdout",
     "output_type": "stream",
     "text": [
      "pratik mandhare gauri shiva yoou\n"
     ]
    }
   ],
   "source": [
    "#9. Unpack the elements of a tuple into variables.\n",
    "\n",
    "lst =['pratik','mandhare','gauri','shiva','yoou']\n",
    "a,b,c,d,e=lst\n",
    "print(a,b,c,d,e)"
   ]
  },
  {
   "cell_type": "code",
   "execution_count": 74,
   "id": "c752047e",
   "metadata": {
    "ExecuteTime": {
     "end_time": "2023-11-11T08:05:31.467529Z",
     "start_time": "2023-11-11T08:05:31.456820Z"
    }
   },
   "outputs": [
    {
     "data": {
      "text/plain": [
       "(2, 4, 6, 8, 10)"
      ]
     },
     "execution_count": 74,
     "metadata": {},
     "output_type": "execute_result"
    }
   ],
   "source": [
    "#10. Create a tuple of even numbers from 1 to 10.\n",
    "\n",
    "lst=[]\n",
    "for i in range(1,11):\n",
    "    if i%2==0:\n",
    "        lst.append(i)\n",
    "        \n",
    "tup=tuple(lst)\n",
    "tup"
   ]
  },
  {
   "cell_type": "code",
   "execution_count": 75,
   "id": "5713b069",
   "metadata": {
    "ExecuteTime": {
     "end_time": "2023-11-11T08:06:01.358382Z",
     "start_time": "2023-11-11T08:06:01.346021Z"
    }
   },
   "outputs": [
    {
     "data": {
      "text/plain": [
       "(1, 3, 5, 7, 9)"
      ]
     },
     "execution_count": 75,
     "metadata": {},
     "output_type": "execute_result"
    }
   ],
   "source": [
    "#11. Create a tuple of odd numbers from 1 to 10.\n",
    "\n",
    "lst=[]\n",
    "for i in range(1,11):\n",
    "    if i%2!=0:\n",
    "        lst.append(i)\n",
    "        \n",
    "tup=tuple(lst)\n",
    "tup"
   ]
  },
  {
   "cell_type": "code",
   "execution_count": 76,
   "id": "a37c9cd7",
   "metadata": {
    "ExecuteTime": {
     "end_time": "2023-11-11T08:07:36.003948Z",
     "start_time": "2023-11-11T08:07:35.992258Z"
    }
   },
   "outputs": [
    {
     "data": {
      "text/plain": [
       "['pra', 'sudh', 'man', 'gauri', 'shiva']"
      ]
     },
     "execution_count": 76,
     "metadata": {},
     "output_type": "execute_result"
    }
   ],
   "source": [
    "#12. Concatenate two tuples.\n",
    "\n",
    "tup1=['pra','sudh','man']\n",
    "tup2=['gauri','shiva']\n",
    "tup3=tup1+tup2\n",
    "tup3"
   ]
  },
  {
   "cell_type": "code",
   "execution_count": 77,
   "id": "7a7d66e7",
   "metadata": {
    "ExecuteTime": {
     "end_time": "2023-11-11T08:07:57.439940Z",
     "start_time": "2023-11-11T08:07:57.428954Z"
    }
   },
   "outputs": [
    {
     "data": {
      "text/plain": [
       "['pra', 'sudh', 'man', 'pra', 'sudh', 'man', 'pra', 'sudh', 'man']"
      ]
     },
     "execution_count": 77,
     "metadata": {},
     "output_type": "execute_result"
    }
   ],
   "source": [
    "#13. Repeat a tuple three times.\n",
    "\n",
    "tup1=['pra','sudh','man']\n",
    "tup1*3"
   ]
  },
  {
   "cell_type": "code",
   "execution_count": 83,
   "id": "38a7b55b",
   "metadata": {
    "ExecuteTime": {
     "end_time": "2023-11-11T08:10:49.159834Z",
     "start_time": "2023-11-11T08:10:49.152812Z"
    }
   },
   "outputs": [
    {
     "name": "stdout",
     "output_type": "stream",
     "text": [
      "empty\n"
     ]
    }
   ],
   "source": [
    "#14. Check if a tuple is empty.\n",
    "\n",
    "tup=()\n",
    "if len(tup)==0:\n",
    "    print('empty')"
   ]
  },
  {
   "cell_type": "code",
   "execution_count": 84,
   "id": "cb594475",
   "metadata": {
    "ExecuteTime": {
     "end_time": "2023-11-11T08:30:52.382150Z",
     "start_time": "2023-11-11T08:30:52.370481Z"
    }
   },
   "outputs": [
    {
     "data": {
      "text/plain": [
       "(1, 2, 3, 4, (5, 6))"
      ]
     },
     "execution_count": 84,
     "metadata": {},
     "output_type": "execute_result"
    }
   ],
   "source": [
    "#15. Create a nested tuple.\n",
    "\n",
    "tup = (1,2,3,4,(5,6))\n",
    "tup"
   ]
  },
  {
   "cell_type": "code",
   "execution_count": 88,
   "id": "e1ebb56f",
   "metadata": {
    "ExecuteTime": {
     "end_time": "2023-11-11T08:38:45.490319Z",
     "start_time": "2023-11-11T08:38:45.481950Z"
    }
   },
   "outputs": [
    {
     "name": "stdout",
     "output_type": "stream",
     "text": [
      "5\n"
     ]
    }
   ],
   "source": [
    "#16. Access the first element of a nested tuple.\n",
    "\n",
    "tup = (1,2,3,4,(5,6))\n",
    "for i in tup:\n",
    "    if type(i)==tuple:\n",
    "        print(i[0])"
   ]
  },
  {
   "cell_type": "code",
   "execution_count": 89,
   "id": "721cddcf",
   "metadata": {
    "ExecuteTime": {
     "end_time": "2023-11-11T08:39:37.032133Z",
     "start_time": "2023-11-11T08:39:37.022279Z"
    }
   },
   "outputs": [
    {
     "data": {
      "text/plain": [
       "'name'"
      ]
     },
     "execution_count": 89,
     "metadata": {},
     "output_type": "execute_result"
    }
   ],
   "source": [
    "#17. Create a tuple with a single element.\n",
    "\n",
    "tup=('name')\n",
    "tup"
   ]
  },
  {
   "cell_type": "code",
   "execution_count": 93,
   "id": "d0254bff",
   "metadata": {
    "ExecuteTime": {
     "end_time": "2023-11-11T08:43:09.949117Z",
     "start_time": "2023-11-11T08:43:09.940993Z"
    }
   },
   "outputs": [
    {
     "name": "stdout",
     "output_type": "stream",
     "text": [
      "same\n"
     ]
    }
   ],
   "source": [
    "#18. Compare two tuples.\n",
    "\n",
    "tup1=('pratik','gauri','shiva')\n",
    "tup2=('pratik','gauri','shiva')\n",
    "if tup1==tup2:\n",
    "    print('same')\n",
    "else:\n",
    "    print('not same')"
   ]
  },
  {
   "cell_type": "code",
   "execution_count": 96,
   "id": "31a0f224",
   "metadata": {
    "ExecuteTime": {
     "end_time": "2023-11-13T06:31:16.814614Z",
     "start_time": "2023-11-13T06:31:16.807654Z"
    }
   },
   "outputs": [],
   "source": [
    "#19. Delete a tuple.\n",
    "\n",
    "tup1=('pratik','gauri','shiva')\n",
    "del tup1"
   ]
  },
  {
   "cell_type": "code",
   "execution_count": 97,
   "id": "a951c539",
   "metadata": {
    "ExecuteTime": {
     "end_time": "2023-11-13T06:36:57.226168Z",
     "start_time": "2023-11-13T06:36:57.149135Z"
    }
   },
   "outputs": [
    {
     "data": {
      "text/plain": [
       "('gauri', 'shiva', 'aish')"
      ]
     },
     "execution_count": 97,
     "metadata": {},
     "output_type": "execute_result"
    }
   ],
   "source": [
    "#20. Slice a tuple.\n",
    "\n",
    "tup1=('pratik','gauri','shiva','aish')\n",
    "tup1[1:4]"
   ]
  },
  {
   "cell_type": "code",
   "execution_count": 106,
   "id": "433e5349",
   "metadata": {
    "ExecuteTime": {
     "end_time": "2023-11-13T06:48:42.347157Z",
     "start_time": "2023-11-13T06:48:42.335158Z"
    }
   },
   "outputs": [
    {
     "data": {
      "text/plain": [
       "7"
      ]
     },
     "execution_count": 106,
     "metadata": {},
     "output_type": "execute_result"
    }
   ],
   "source": [
    "#21. Find the maximum value in a tuple.\n",
    "\n",
    "tup=(5,6,7,3,4)\n",
    "lst = list(tup)\n",
    "lst.sort()\n",
    "lst[len(lst)-1]"
   ]
  },
  {
   "cell_type": "code",
   "execution_count": 107,
   "id": "f438780b",
   "metadata": {
    "ExecuteTime": {
     "end_time": "2023-11-13T06:50:02.309351Z",
     "start_time": "2023-11-13T06:50:02.297863Z"
    }
   },
   "outputs": [
    {
     "data": {
      "text/plain": [
       "3"
      ]
     },
     "execution_count": 107,
     "metadata": {},
     "output_type": "execute_result"
    }
   ],
   "source": [
    "#22. Find the minimum value in a tuple.\n",
    "\n",
    "tup=(5,6,7,3,4)\n",
    "lst = list(tup)\n",
    "lst.sort()\n",
    "lst[0]"
   ]
  },
  {
   "cell_type": "code",
   "execution_count": 108,
   "id": "13e8393e",
   "metadata": {
    "ExecuteTime": {
     "end_time": "2023-11-13T06:52:38.399903Z",
     "start_time": "2023-11-13T06:52:38.390009Z"
    }
   },
   "outputs": [
    {
     "data": {
      "text/plain": [
       "('p', 'r', 'a', 't', 'i', 'k')"
      ]
     },
     "execution_count": 108,
     "metadata": {},
     "output_type": "execute_result"
    }
   ],
   "source": [
    "#23. Convert a string to a tuple of characters.\n",
    "\n",
    "tup=tuple('pratik')\n",
    "tup"
   ]
  },
  {
   "cell_type": "code",
   "execution_count": 109,
   "id": "10f680cd",
   "metadata": {
    "ExecuteTime": {
     "end_time": "2023-11-13T06:54:40.660817Z",
     "start_time": "2023-11-13T06:54:40.331356Z"
    }
   },
   "outputs": [
    {
     "data": {
      "text/plain": [
       "'pratik'"
      ]
     },
     "execution_count": 109,
     "metadata": {},
     "output_type": "execute_result"
    }
   ],
   "source": [
    "#24. Convert a tuple of characters to a string.\n",
    "\n",
    "tup = ('p', 'r', 'a', 't', 'i', 'k')\n",
    "string=''\n",
    "for i in tup:\n",
    "    string+=i\n",
    "string"
   ]
  },
  {
   "cell_type": "code",
   "execution_count": 110,
   "id": "04a900e5",
   "metadata": {
    "ExecuteTime": {
     "end_time": "2023-11-13T06:56:04.751797Z",
     "start_time": "2023-11-13T06:56:04.740460Z"
    }
   },
   "outputs": [
    {
     "data": {
      "text/plain": [
       "('pratk', 3, True, 0.5)"
      ]
     },
     "execution_count": 110,
     "metadata": {},
     "output_type": "execute_result"
    }
   ],
   "source": [
    "#25. Create a tuple from multiple data types.\n",
    "\n",
    "tup=('pratk',3,True,0.5)\n",
    "tup"
   ]
  },
  {
   "cell_type": "code",
   "execution_count": 112,
   "id": "92550fe8",
   "metadata": {
    "ExecuteTime": {
     "end_time": "2023-11-13T06:58:10.079392Z",
     "start_time": "2023-11-13T06:58:10.069768Z"
    }
   },
   "outputs": [
    {
     "name": "stdout",
     "output_type": "stream",
     "text": [
      "not\n"
     ]
    }
   ],
   "source": [
    "#26. Check if two tuples are identical.\n",
    "\n",
    "tup1 = (5,4,6,7,3)\n",
    "tup2 = (5,4,6,7,3,2)\n",
    "if tup1==tup2:\n",
    "    print('tuples are identicals')\n",
    "else:\n",
    "    print('not')"
   ]
  },
  {
   "cell_type": "code",
   "execution_count": 116,
   "id": "f200f14b",
   "metadata": {
    "ExecuteTime": {
     "end_time": "2023-11-13T07:01:53.965092Z",
     "start_time": "2023-11-13T07:01:53.956746Z"
    }
   },
   "outputs": [
    {
     "name": "stdout",
     "output_type": "stream",
     "text": [
      "[3, 4, 5, 6, 7]\n"
     ]
    }
   ],
   "source": [
    "#27. Sort the elements of a tuple.\n",
    "\n",
    "tup1 = (5,4,6,7,3)\n",
    "lst=list(tup1)\n",
    "tup1=lst.sort()\n",
    "tup1=lst\n",
    "print(tup1)"
   ]
  },
  {
   "cell_type": "code",
   "execution_count": 117,
   "id": "99fb7fe9",
   "metadata": {
    "ExecuteTime": {
     "end_time": "2023-11-13T07:05:09.290942Z",
     "start_time": "2023-11-13T07:05:09.279314Z"
    }
   },
   "outputs": [
    {
     "data": {
      "text/plain": [
       "['5', '4', '6', '7', '3']"
      ]
     },
     "execution_count": 117,
     "metadata": {},
     "output_type": "execute_result"
    }
   ],
   "source": [
    "#28. Convert a tuple of integers to a tuple of strings.\n",
    "\n",
    "tup1 = (5,4,6,7,3)\n",
    "lst=[]\n",
    "for i in tup1:\n",
    "    lst.append(str(i))\n",
    "lst"
   ]
  },
  {
   "cell_type": "code",
   "execution_count": 118,
   "id": "7cb8a5ed",
   "metadata": {
    "ExecuteTime": {
     "end_time": "2023-11-13T07:06:17.409139Z",
     "start_time": "2023-11-13T07:06:17.396327Z"
    }
   },
   "outputs": [
    {
     "data": {
      "text/plain": [
       "[5, 4, 6, 7, 3]"
      ]
     },
     "execution_count": 118,
     "metadata": {},
     "output_type": "execute_result"
    }
   ],
   "source": [
    "#29. Convert a tuple of strings to a tuple of integers.\n",
    "\n",
    "tup1 = ('5', '4', '6', '7', '3')\n",
    "lst=[]\n",
    "for i in tup1:\n",
    "    lst.append(int(i))\n",
    "lst"
   ]
  },
  {
   "cell_type": "code",
   "execution_count": 120,
   "id": "fb9b4f18",
   "metadata": {
    "ExecuteTime": {
     "end_time": "2023-11-13T07:07:09.126651Z",
     "start_time": "2023-11-13T07:07:09.114484Z"
    }
   },
   "outputs": [
    {
     "data": {
      "text/plain": [
       "(5, 4, 6, 7, 3, 5, 4, 6, 7, 3, 2)"
      ]
     },
     "execution_count": 120,
     "metadata": {},
     "output_type": "execute_result"
    }
   ],
   "source": [
    "#30. Merge two tuples.\n",
    "\n",
    "tup1 = (5,4,6,7,3)\n",
    "tup2 = (5,4,6,7,3,2)\n",
    "tup1 + tup2"
   ]
  },
  {
   "cell_type": "code",
   "execution_count": 130,
   "id": "edfa875d",
   "metadata": {
    "ExecuteTime": {
     "end_time": "2023-11-13T07:14:24.872139Z",
     "start_time": "2023-11-13T07:14:24.858329Z"
    }
   },
   "outputs": [
    {
     "data": {
      "text/plain": [
       "(1, 2, 3, 4, 5, 6, 7, 8)"
      ]
     },
     "execution_count": 130,
     "metadata": {},
     "output_type": "execute_result"
    }
   ],
   "source": [
    "#31. Flatten a nested tuple.\n",
    "\n",
    "l=(1,2,3,4,5,(6,7,8))\n",
    "lst2=[]\n",
    "def flatten(l):\n",
    "    for i in l:\n",
    "        if type(i)==tuple:\n",
    "            flatten(i)\n",
    "        else:\n",
    "            lst2.append(i)\n",
    "flatten(l)\n",
    "l=tuple(lst2)\n",
    "l"
   ]
  },
  {
   "cell_type": "code",
   "execution_count": 135,
   "id": "4a11453b",
   "metadata": {
    "ExecuteTime": {
     "end_time": "2023-11-13T07:25:17.862472Z",
     "start_time": "2023-11-13T07:25:17.846535Z"
    }
   },
   "outputs": [
    {
     "data": {
      "text/plain": [
       "(2, 3, 5, 7, 11)"
      ]
     },
     "execution_count": 135,
     "metadata": {},
     "output_type": "execute_result"
    }
   ],
   "source": [
    "#32. Create a tuple of the first 5 prime numbers.\n",
    "    \n",
    "lst=[]\n",
    "count=0\n",
    "for i in range(2,100):\n",
    "    count=0\n",
    "    for j in range(2,i+1):\n",
    "        if i%j==0:\n",
    "            count+=1\n",
    "    if count==1:\n",
    "        lst.append(i)\n",
    "    if (len(lst)>=5):\n",
    "        break\n",
    "tup=tuple(lst)\n",
    "tup"
   ]
  },
  {
   "cell_type": "code",
   "execution_count": 138,
   "id": "d4bd767d",
   "metadata": {
    "ExecuteTime": {
     "end_time": "2023-11-13T07:31:18.053064Z",
     "start_time": "2023-11-13T07:31:18.040670Z"
    }
   },
   "outputs": [
    {
     "data": {
      "text/plain": [
       "False"
      ]
     },
     "execution_count": 138,
     "metadata": {},
     "output_type": "execute_result"
    }
   ],
   "source": [
    "#33. Check if a tuple is a palindrome.\n",
    "\n",
    "tup=(1,2,3,2,1,8)\n",
    "for i in range((len(tup)-1)//2):\n",
    "    if tup[i]==tup[len(tup)-i-1]:\n",
    "        pal=True\n",
    "    else:\n",
    "        pal=False\n",
    "        break\n",
    "pal"
   ]
  },
  {
   "cell_type": "code",
   "execution_count": 140,
   "id": "88ccddc3",
   "metadata": {
    "ExecuteTime": {
     "end_time": "2023-11-13T07:39:30.093624Z",
     "start_time": "2023-11-13T07:39:30.080521Z"
    }
   },
   "outputs": [
    {
     "data": {
      "text/plain": [
       "(1, 4, 9, 16, 25)"
      ]
     },
     "execution_count": 140,
     "metadata": {},
     "output_type": "execute_result"
    }
   ],
   "source": [
    "#34. Create a tuple of squares of numbers from 1 to 5.\n",
    "\n",
    "lst=[]\n",
    "for i in range(1,6):\n",
    "    lst.append(i**2)\n",
    "tuple(lst)"
   ]
  },
  {
   "cell_type": "code",
   "execution_count": 141,
   "id": "543a8d6a",
   "metadata": {
    "ExecuteTime": {
     "end_time": "2023-11-13T07:42:37.531669Z",
     "start_time": "2023-11-13T07:42:37.522856Z"
    }
   },
   "outputs": [
    {
     "name": "stdout",
     "output_type": "stream",
     "text": [
      "4\n",
      "6\n"
     ]
    }
   ],
   "source": [
    "#35. Filter out all even numbers from a tuple.\n",
    "\n",
    "tup1 = (5,4,6,7,3)\n",
    "for i in tup1:\n",
    "    if i%2==0:\n",
    "        print(i)"
   ]
  },
  {
   "cell_type": "code",
   "execution_count": 144,
   "id": "25a68fc0",
   "metadata": {
    "ExecuteTime": {
     "end_time": "2023-11-13T07:45:10.637286Z",
     "start_time": "2023-11-13T07:45:10.625108Z"
    }
   },
   "outputs": [
    {
     "data": {
      "text/plain": [
       "(10, 8, 12, 14, 6)"
      ]
     },
     "execution_count": 144,
     "metadata": {},
     "output_type": "execute_result"
    }
   ],
   "source": [
    "#36. Multiply all elements in a tuple by 2.\n",
    "\n",
    "tup1 = (5,4,6,7,3)\n",
    "lst=[]\n",
    "for i in tup1:\n",
    "    lst.append(i*2)\n",
    "tup1=tuple(lst)\n",
    "tup1"
   ]
  },
  {
   "cell_type": "code",
   "execution_count": 149,
   "id": "fc68e185",
   "metadata": {
    "ExecuteTime": {
     "end_time": "2023-11-13T07:53:00.253747Z",
     "start_time": "2023-11-13T07:53:00.241629Z"
    }
   },
   "outputs": [
    {
     "data": {
      "text/plain": [
       "[51, 88, 77, 72, 86, 56, 54, 59, 62]"
      ]
     },
     "execution_count": 149,
     "metadata": {},
     "output_type": "execute_result"
    }
   ],
   "source": [
    "#37. Create a tuple of random numbers.\n",
    "\n",
    "import random\n",
    "lst=[]\n",
    "for i in range(1,10):\n",
    "    lst.append(int((random.random()*100)//1))\n",
    "lst"
   ]
  },
  {
   "cell_type": "code",
   "execution_count": 156,
   "id": "59db0a60",
   "metadata": {
    "ExecuteTime": {
     "end_time": "2023-11-13T08:00:55.302154Z",
     "start_time": "2023-11-13T08:00:55.288165Z"
    }
   },
   "outputs": [
    {
     "name": "stdout",
     "output_type": "stream",
     "text": [
      "not sorted\n"
     ]
    }
   ],
   "source": [
    "#38. Check if a tuple is sorted.\n",
    "\n",
    "tup=(1,2,3,4,3)\n",
    "count=0\n",
    "for i in range(len(tup)-1):\n",
    "    if tup[i]<tup[i+1]:\n",
    "        count+=1\n",
    "    else:\n",
    "        print('not sorted')\n",
    "        break\n",
    "if count==len(tup)-1:\n",
    "    print('sorted')"
   ]
  },
  {
   "cell_type": "code",
   "execution_count": 159,
   "id": "04e76dd4",
   "metadata": {
    "ExecuteTime": {
     "end_time": "2023-11-13T08:05:13.319333Z",
     "start_time": "2023-11-13T08:05:13.300272Z"
    }
   },
   "outputs": [
    {
     "data": {
      "text/plain": [
       "(4, 5, 6, 7, 8, 9, 1, 2, 3)"
      ]
     },
     "execution_count": 159,
     "metadata": {},
     "output_type": "execute_result"
    }
   ],
   "source": [
    "#39. Rotate a tuple to the left by `n` positions.\n",
    "\n",
    "tup = (1, 2, 3, 4, 5, 6, 7,8,9)\n",
    "arr=tuple(tup)\n",
    "arr1=[]\n",
    "a=0\n",
    "n = 3\n",
    "i=0\n",
    "while i<=len(arr)-1:\n",
    "    if i>=(n):\n",
    "        arr1.insert(a,arr[i])\n",
    "        a+=1\n",
    "        \n",
    "    if i <(n):\n",
    "        arr1.append(arr[i])\n",
    "        \n",
    "    i+=1\n",
    "    \n",
    "tup=tuple(arr1)\n",
    "tup"
   ]
  },
  {
   "cell_type": "code",
   "execution_count": 160,
   "id": "460d1a07",
   "metadata": {
    "ExecuteTime": {
     "end_time": "2023-11-13T08:08:59.225895Z",
     "start_time": "2023-11-13T08:08:59.209218Z"
    }
   },
   "outputs": [
    {
     "data": {
      "text/plain": [
       "(7, 8, 9, 1, 2, 3, 4, 5, 6)"
      ]
     },
     "execution_count": 160,
     "metadata": {},
     "output_type": "execute_result"
    }
   ],
   "source": [
    "#40. Rotate a tuple to the right by `n` positions.\n",
    "\n",
    "tup = (1, 2, 3, 4, 5, 6, 7,8,9)\n",
    "arr=tuple(tup)\n",
    "arr1=[]\n",
    "a=0\n",
    "n = 3\n",
    "i=0\n",
    "while i<=len(arr)-1:\n",
    "    if i>=(len(arr)-n):\n",
    "        arr1.insert(a,arr[i])\n",
    "        a+=1\n",
    "        \n",
    "    if i <(len(arr)-n):\n",
    "        arr1.append(arr[i])\n",
    "    i+=1\n",
    "    \n",
    "tup=tuple(arr1)\n",
    "tup"
   ]
  },
  {
   "cell_type": "code",
   "execution_count": 163,
   "id": "912fe20a",
   "metadata": {
    "ExecuteTime": {
     "end_time": "2023-11-13T08:17:24.310666Z",
     "start_time": "2023-11-13T08:17:24.294251Z"
    }
   },
   "outputs": [
    {
     "data": {
      "text/plain": [
       "(0, 1, 1, 2, 3, 5, 8, 13, 21, 34)"
      ]
     },
     "execution_count": 163,
     "metadata": {},
     "output_type": "execute_result"
    }
   ],
   "source": [
    "#41. Create a tuple of the first 5 Fibonacci numbers.\n",
    "\n",
    "lst=[0,1]\n",
    "num1=0\n",
    "num2=1\n",
    "for i in range(0,8):\n",
    "    num2=num1+num2\n",
    "    num1=num2-num1\n",
    "#   lst.append(num1)\n",
    "    lst.append(num2)\n",
    "tup=tuple(lst)\n",
    "tup"
   ]
  },
  {
   "cell_type": "code",
   "execution_count": 164,
   "id": "2e2cc43c",
   "metadata": {
    "ExecuteTime": {
     "end_time": "2023-11-13T08:27:18.269085Z",
     "start_time": "2023-11-13T08:27:11.103003Z"
    }
   },
   "outputs": [
    {
     "name": "stdout",
     "output_type": "stream",
     "text": [
      "enter value5\n",
      "enter1\n",
      "enter2\n",
      "enter3\n",
      "enter4\n",
      "enter5\n"
     ]
    },
    {
     "data": {
      "text/plain": [
       "['1', '2', '3', '4', '5']"
      ]
     },
     "execution_count": 164,
     "metadata": {},
     "output_type": "execute_result"
    }
   ],
   "source": [
    "#42. Create a tuple from user input.\n",
    "\n",
    "size=int(input('enter value'))\n",
    "lst=[]\n",
    "for i in range(size):\n",
    "    a=input('enter')\n",
    "    lst.append(a)\n",
    "lst"
   ]
  },
  {
   "cell_type": "code",
   "execution_count": 165,
   "id": "df789778",
   "metadata": {
    "ExecuteTime": {
     "end_time": "2023-11-13T15:25:16.507506Z",
     "start_time": "2023-11-13T15:25:16.094538Z"
    }
   },
   "outputs": [
    {
     "data": {
      "text/plain": [
       "(1, 5, 3, 4, 2, 6)"
      ]
     },
     "execution_count": 165,
     "metadata": {},
     "output_type": "execute_result"
    }
   ],
   "source": [
    "#43. Swap two elements in a tuple.\n",
    "\n",
    "tup = (1,2,3,4,5,6)\n",
    "val1=1\n",
    "val2=4\n",
    "lst=list(tup)\n",
    "a=lst[val1]\n",
    "lst[val1]=lst[val2]\n",
    "lst[val2]=a\n",
    "tup=tuple(lst)\n",
    "tup"
   ]
  },
  {
   "cell_type": "code",
   "execution_count": 166,
   "id": "9ca9aa21",
   "metadata": {
    "ExecuteTime": {
     "end_time": "2023-11-13T15:27:10.154225Z",
     "start_time": "2023-11-13T15:27:10.140338Z"
    }
   },
   "outputs": [
    {
     "data": {
      "text/plain": [
       "(6, 5, 4, 3, 2, 1)"
      ]
     },
     "execution_count": 166,
     "metadata": {},
     "output_type": "execute_result"
    }
   ],
   "source": [
    "#44. Reverse the elements of a tuple.\n",
    "\n",
    "tup=(1,2,3,4,5,6)\n",
    "lst=list(tup)\n",
    "lst.reverse()\n",
    "tup=tuple(lst)\n",
    "tup"
   ]
  },
  {
   "cell_type": "code",
   "execution_count": 167,
   "id": "c79edea5",
   "metadata": {
    "ExecuteTime": {
     "end_time": "2023-11-13T15:32:04.662951Z",
     "start_time": "2023-11-13T15:32:04.649701Z"
    }
   },
   "outputs": [
    {
     "data": {
      "text/plain": [
       "(1, 2, 4, 8, 16, 32)"
      ]
     },
     "execution_count": 167,
     "metadata": {},
     "output_type": "execute_result"
    }
   ],
   "source": [
    "#45. Create a tuple of the first `n` powers of 2.\n",
    "\n",
    "n=5\n",
    "lst=[]\n",
    "for i in range(n+1):\n",
    "    lst.append(2**i)\n",
    "tup=tuple(lst)\n",
    "tup"
   ]
  },
  {
   "cell_type": "code",
   "execution_count": 178,
   "id": "15c2f058",
   "metadata": {
    "ExecuteTime": {
     "end_time": "2023-11-13T15:37:29.636816Z",
     "start_time": "2023-11-13T15:37:29.625097Z"
    }
   },
   "outputs": [
    {
     "data": {
      "text/plain": [
       "'shivanjali'"
      ]
     },
     "execution_count": 178,
     "metadata": {},
     "output_type": "execute_result"
    }
   ],
   "source": [
    "#46. Find the longest string in a tuple of strings.\n",
    "\n",
    "tup=('pratik','shashikat','gauri','shivanjali','aishwarya')\n",
    "maximum=''\n",
    "for i in tup:\n",
    "    if len(i)>len(maximum):\n",
    "        maximum=i\n",
    "maximum"
   ]
  },
  {
   "cell_type": "code",
   "execution_count": 179,
   "id": "f53d1f3a",
   "metadata": {
    "ExecuteTime": {
     "end_time": "2023-11-13T15:39:17.654840Z",
     "start_time": "2023-11-13T15:39:17.641811Z"
    }
   },
   "outputs": [
    {
     "data": {
      "text/plain": [
       "'gauri'"
      ]
     },
     "execution_count": 179,
     "metadata": {},
     "output_type": "execute_result"
    }
   ],
   "source": [
    "#47. Find the shortest string in a tuple of strings.\n",
    "\n",
    "tup=('pratik','shashikat','gauri','shivanjali','aishwarya')\n",
    "minimum=tup[0]\n",
    "for i in tup:\n",
    "    if len(i)<len(minimum):\n",
    "        minimum=i\n",
    "minimum"
   ]
  },
  {
   "cell_type": "code",
   "execution_count": 187,
   "id": "4754465f",
   "metadata": {
    "ExecuteTime": {
     "end_time": "2023-11-13T15:45:55.657646Z",
     "start_time": "2023-11-13T15:45:55.644128Z"
    }
   },
   "outputs": [
    {
     "data": {
      "text/plain": [
       "(1, 3, 6, 10, 15, 21)"
      ]
     },
     "execution_count": 187,
     "metadata": {},
     "output_type": "execute_result"
    }
   ],
   "source": [
    "#48. Create a tuple of the first `n` triangular numbers.\n",
    "\n",
    "lst=[]\n",
    "val=0\n",
    "n=7\n",
    "for i in range(1,n):\n",
    "    val+=i\n",
    "    lst.append(val)\n",
    "tup=tuple(lst)\n",
    "tup"
   ]
  },
  {
   "cell_type": "code",
   "execution_count": 188,
   "id": "04dbd493",
   "metadata": {
    "ExecuteTime": {
     "end_time": "2023-11-13T15:48:47.463034Z",
     "start_time": "2023-11-13T15:48:47.455449Z"
    }
   },
   "outputs": [
    {
     "name": "stdout",
     "output_type": "stream",
     "text": [
      "it contains a tuple\n"
     ]
    }
   ],
   "source": [
    "#49. Check if a tuple contains another tuple as a subsequence.\n",
    "\n",
    "tup=(1,2,3,4,5,(6,7))\n",
    "for i in tup:\n",
    "    if type(i)==tuple:\n",
    "        print('it contains a tuple')"
   ]
  },
  {
   "cell_type": "code",
   "execution_count": 190,
   "id": "ee9eb270",
   "metadata": {
    "ExecuteTime": {
     "end_time": "2023-11-13T15:55:36.663142Z",
     "start_time": "2023-11-13T15:55:36.648474Z"
    }
   },
   "outputs": [
    {
     "data": {
      "text/plain": [
       "(1, 0, 1, 0, 1, 0, 1)"
      ]
     },
     "execution_count": 190,
     "metadata": {},
     "output_type": "execute_result"
    }
   ],
   "source": [
    "#50. Create a tuple of alternating 1s and 0s of length `n`.\n",
    "\n",
    "lst=[]\n",
    "n=7\n",
    "for i in range(1,n+1):\n",
    "    if i%2==0:\n",
    "        lst.append(0)\n",
    "    else:\n",
    "        lst.append(1)\n",
    "tup=tuple(lst)    \n",
    "tup"
   ]
  },
  {
   "cell_type": "code",
   "execution_count": null,
   "id": "0b63a9df",
   "metadata": {},
   "outputs": [],
   "source": []
  },
  {
   "cell_type": "code",
   "execution_count": 191,
   "id": "5484a276",
   "metadata": {
    "ExecuteTime": {
     "end_time": "2023-11-13T15:57:47.452013Z",
     "start_time": "2023-11-13T15:57:47.447018Z"
    }
   },
   "outputs": [],
   "source": [
    "#------------------------Set Based Practice Problem :---------------------"
   ]
  },
  {
   "cell_type": "code",
   "execution_count": null,
   "id": "4cd7a82e",
   "metadata": {},
   "outputs": [],
   "source": []
  },
  {
   "cell_type": "code",
   "execution_count": 197,
   "id": "57f59cfd",
   "metadata": {
    "ExecuteTime": {
     "end_time": "2023-11-13T16:12:05.994288Z",
     "start_time": "2023-11-13T16:12:05.982116Z"
    }
   },
   "outputs": [
    {
     "data": {
      "text/plain": [
       "{1, 2, 3, 4, 5}"
      ]
     },
     "execution_count": 197,
     "metadata": {},
     "output_type": "execute_result"
    }
   ],
   "source": [
    "#1. Create a set with integers from 1 to 5.\n",
    "\n",
    "set1=set()\n",
    "for i in range(1,6):\n",
    "    set1.add(i)\n",
    "set1"
   ]
  },
  {
   "cell_type": "code",
   "execution_count": 199,
   "id": "4a12cfee",
   "metadata": {
    "ExecuteTime": {
     "end_time": "2023-11-13T16:13:08.972936Z",
     "start_time": "2023-11-13T16:13:08.960030Z"
    }
   },
   "outputs": [
    {
     "data": {
      "text/plain": [
       "{1, 2, 3, 4, 5, 66}"
      ]
     },
     "execution_count": 199,
     "metadata": {},
     "output_type": "execute_result"
    }
   ],
   "source": [
    "#2. Add an element to a set.\n",
    "\n",
    "set1={1,2,3,4,5}\n",
    "set1.add(66)\n",
    "set1"
   ]
  },
  {
   "cell_type": "code",
   "execution_count": 203,
   "id": "4731f473",
   "metadata": {
    "ExecuteTime": {
     "end_time": "2023-11-13T16:14:31.846906Z",
     "start_time": "2023-11-13T16:14:31.835823Z"
    }
   },
   "outputs": [
    {
     "data": {
      "text/plain": [
       "{1, 2, 3, 5}"
      ]
     },
     "execution_count": 203,
     "metadata": {},
     "output_type": "execute_result"
    }
   ],
   "source": [
    "#3. Remove an element from a set.\n",
    "\n",
    "set1={1,2,3,4,5}\n",
    "set1.remove(4)\n",
    "set1"
   ]
  },
  {
   "cell_type": "code",
   "execution_count": 209,
   "id": "60a948cb",
   "metadata": {
    "ExecuteTime": {
     "end_time": "2023-11-13T16:23:38.436663Z",
     "start_time": "2023-11-13T16:23:38.427877Z"
    }
   },
   "outputs": [
    {
     "name": "stdout",
     "output_type": "stream",
     "text": [
      "True\n"
     ]
    }
   ],
   "source": [
    "# 4. Check if an element exists in a set.\n",
    "\n",
    "val=5\n",
    "set1={1,2,3,4,5,6}\n",
    "if 5 in set1:\n",
    "    print(True)\n",
    "else:\n",
    "    print(False)"
   ]
  },
  {
   "cell_type": "code",
   "execution_count": 211,
   "id": "5be9090c",
   "metadata": {
    "ExecuteTime": {
     "end_time": "2023-11-13T16:25:13.547052Z",
     "start_time": "2023-11-13T16:25:13.537112Z"
    }
   },
   "outputs": [
    {
     "data": {
      "text/plain": [
       "6"
      ]
     },
     "execution_count": 211,
     "metadata": {},
     "output_type": "execute_result"
    }
   ],
   "source": [
    "#5. Find the length of a set without using the `len()` function.\n",
    "\n",
    "set1={1,2,3,4,5,6}\n",
    "count=0\n",
    "for i in set1:\n",
    "    count+=1\n",
    "count"
   ]
  },
  {
   "cell_type": "code",
   "execution_count": 212,
   "id": "dd542acb",
   "metadata": {
    "ExecuteTime": {
     "end_time": "2023-11-13T16:26:07.379070Z",
     "start_time": "2023-11-13T16:26:07.367315Z"
    }
   },
   "outputs": [
    {
     "data": {
      "text/plain": [
       "set()"
      ]
     },
     "execution_count": 212,
     "metadata": {},
     "output_type": "execute_result"
    }
   ],
   "source": [
    "#6. Clear all elements from a set.\n",
    "\n",
    "set1={1,2,3,4,5,6}\n",
    "set1.clear()\n",
    "set1"
   ]
  },
  {
   "cell_type": "code",
   "execution_count": 213,
   "id": "d386d5f5",
   "metadata": {
    "ExecuteTime": {
     "end_time": "2023-11-13T16:30:45.468502Z",
     "start_time": "2023-11-13T16:30:45.455459Z"
    }
   },
   "outputs": [
    {
     "data": {
      "text/plain": [
       "{2, 4, 6, 8, 10}"
      ]
     },
     "execution_count": 213,
     "metadata": {},
     "output_type": "execute_result"
    }
   ],
   "source": [
    "#7. Create a set of even numbers from 1 to 10.\n",
    "\n",
    "set1=set()\n",
    "for i in range(1,11):\n",
    "    if i%2==0:\n",
    "        set1.add(i)\n",
    "set1"
   ]
  },
  {
   "cell_type": "code",
   "execution_count": 214,
   "id": "4db4fa83",
   "metadata": {
    "ExecuteTime": {
     "end_time": "2023-11-13T16:31:20.558473Z",
     "start_time": "2023-11-13T16:31:20.545581Z"
    }
   },
   "outputs": [
    {
     "data": {
      "text/plain": [
       "{1, 3, 5, 7, 9}"
      ]
     },
     "execution_count": 214,
     "metadata": {},
     "output_type": "execute_result"
    }
   ],
   "source": [
    "#8. Create a set of odd numbers from 1 to 10.\n",
    "\n",
    "set1=set()\n",
    "for i in range(1,11):\n",
    "    if i%2!=0:\n",
    "        set1.add(i)\n",
    "set1"
   ]
  },
  {
   "cell_type": "code",
   "execution_count": 216,
   "id": "3072ed69",
   "metadata": {
    "ExecuteTime": {
     "end_time": "2023-11-13T16:39:03.329893Z",
     "start_time": "2023-11-13T16:39:03.317629Z"
    }
   },
   "outputs": [
    {
     "data": {
      "text/plain": [
       "{1, 2, 3, 4, 5, 6, 7, 8, 9}"
      ]
     },
     "execution_count": 216,
     "metadata": {},
     "output_type": "execute_result"
    }
   ],
   "source": [
    "#9. Find the union of two sets.\n",
    "\n",
    "set1={1,2,3,4,5,6}\n",
    "set2={5,6,7,8,9}\n",
    "set1.update(set2)\n",
    "set1"
   ]
  },
  {
   "cell_type": "code",
   "execution_count": 217,
   "id": "c6368ac1",
   "metadata": {
    "ExecuteTime": {
     "end_time": "2023-11-13T16:44:46.880941Z",
     "start_time": "2023-11-13T16:44:46.868652Z"
    }
   },
   "outputs": [
    {
     "data": {
      "text/plain": [
       "{5, 6}"
      ]
     },
     "execution_count": 217,
     "metadata": {},
     "output_type": "execute_result"
    }
   ],
   "source": [
    "#10. Find the intersection of two sets.\n",
    "\n",
    "set1={1,2,3,4,5,6}\n",
    "set2={5,6,7,8,9}\n",
    "set1.intersection(set2)"
   ]
  },
  {
   "cell_type": "code",
   "execution_count": 218,
   "id": "f4e12234",
   "metadata": {
    "ExecuteTime": {
     "end_time": "2023-11-13T16:48:26.885269Z",
     "start_time": "2023-11-13T16:48:26.870713Z"
    }
   },
   "outputs": [
    {
     "data": {
      "text/plain": [
       "{1, 2, 3, 4, 7, 8, 9}"
      ]
     },
     "execution_count": 218,
     "metadata": {},
     "output_type": "execute_result"
    }
   ],
   "source": [
    "#11. Find the difference between two sets.\n",
    "\n",
    "set1={1,2,3,4,5,6}\n",
    "set2={5,6,7,8,9}\n",
    "set1.symmetric_difference(set2)"
   ]
  },
  {
   "cell_type": "code",
   "execution_count": 6,
   "id": "66c19ea1",
   "metadata": {
    "ExecuteTime": {
     "end_time": "2023-11-14T03:33:20.325251Z",
     "start_time": "2023-11-14T03:33:20.314130Z"
    }
   },
   "outputs": [
    {
     "data": {
      "text/plain": [
       "True"
      ]
     },
     "execution_count": 6,
     "metadata": {},
     "output_type": "execute_result"
    }
   ],
   "source": [
    "#12. Check if a set is a subset of another set.\n",
    "\n",
    "set2={1,2,3,4,5,6}\n",
    "set1={5,6}\n",
    "set1.issubset(set2)"
   ]
  },
  {
   "cell_type": "code",
   "execution_count": null,
   "id": "607cccdf",
   "metadata": {
    "ExecuteTime": {
     "start_time": "2023-11-14T03:34:53.791Z"
    }
   },
   "outputs": [],
   "source": [
    "#13. Check if a set is a superset of another set.\n",
    "\n",
    "set1={1,2,3,4,5,6}\n",
    "set2={5,6}\n",
    "set1.issuperset(set2)"
   ]
  },
  {
   "cell_type": "code",
   "execution_count": 2,
   "id": "36e36cee",
   "metadata": {
    "ExecuteTime": {
     "end_time": "2023-11-14T03:41:12.612643Z",
     "start_time": "2023-11-14T03:41:12.601652Z"
    }
   },
   "outputs": [
    {
     "data": {
      "text/plain": [
       "{1, 2, 3, 4, 5, 6}"
      ]
     },
     "execution_count": 2,
     "metadata": {},
     "output_type": "execute_result"
    }
   ],
   "source": [
    "#14. Create a set from a list.\n",
    "\n",
    "set1=set()\n",
    "lst=[1,2,3,4,5,6]\n",
    "for i in lst:\n",
    "    set1.add(i)\n",
    "set1"
   ]
  },
  {
   "cell_type": "code",
   "execution_count": 3,
   "id": "0ab6e6ec",
   "metadata": {
    "ExecuteTime": {
     "end_time": "2023-11-14T03:42:06.934969Z",
     "start_time": "2023-11-14T03:42:06.923939Z"
    }
   },
   "outputs": [
    {
     "data": {
      "text/plain": [
       "{1, 2, 3, 4, 5, 6}"
      ]
     },
     "execution_count": 3,
     "metadata": {},
     "output_type": "execute_result"
    }
   ],
   "source": [
    "#15. Convert a set to a list.\n",
    "\n",
    "lst=[1,2,3,4,5,6]\n",
    "set1=set(lst)\n",
    "set1"
   ]
  },
  {
   "cell_type": "code",
   "execution_count": 6,
   "id": "1494f235",
   "metadata": {
    "ExecuteTime": {
     "end_time": "2023-11-14T03:52:01.779037Z",
     "start_time": "2023-11-14T03:52:01.769228Z"
    }
   },
   "outputs": [
    {
     "data": {
      "text/plain": [
       "{'mandhare', 'pratik'}"
      ]
     },
     "execution_count": 6,
     "metadata": {},
     "output_type": "execute_result"
    }
   ],
   "source": [
    "#16. Remove a random element from a set.\n",
    "\n",
    "set1={'pratik','shahikant','mandhare'}\n",
    "set1.pop()\n",
    "set1"
   ]
  },
  {
   "cell_type": "code",
   "execution_count": null,
   "id": "f9ce1bab",
   "metadata": {},
   "outputs": [],
   "source": [
    "#17. Pop an element from a set.\n",
    "\n",
    "set1={'pratik','shahikant','mandhare'}\n",
    "set1.pop()\n",
    "set1"
   ]
  },
  {
   "cell_type": "code",
   "execution_count": 9,
   "id": "fcd788c2",
   "metadata": {
    "ExecuteTime": {
     "end_time": "2023-11-14T04:01:53.705499Z",
     "start_time": "2023-11-14T04:01:53.360372Z"
    }
   },
   "outputs": [
    {
     "name": "stdout",
     "output_type": "stream",
     "text": [
      "True\n"
     ]
    }
   ],
   "source": [
    "#18. Check if two sets have no elements in common.\n",
    "\n",
    "set1={1,2,3,4,5,6}\n",
    "set2={5,6,7,8,9}\n",
    "if len(set1.intersection(set2))==0:\n",
    "    print('it dont have common elements')\n",
    "else:\n",
    "    print('it have common elements')"
   ]
  },
  {
   "cell_type": "code",
   "execution_count": 10,
   "id": "e73ac11e",
   "metadata": {
    "ExecuteTime": {
     "end_time": "2023-11-14T04:05:14.846483Z",
     "start_time": "2023-11-14T04:05:14.835132Z"
    }
   },
   "outputs": [
    {
     "data": {
      "text/plain": [
       "{1, 2, 3, 4, 7, 8, 9}"
      ]
     },
     "execution_count": 10,
     "metadata": {},
     "output_type": "execute_result"
    }
   ],
   "source": [
    "#19. Find the symmetric difference between two sets.\n",
    "\n",
    "set1={1,2,3,4,5,6}\n",
    "set2={5,6,7,8,9}\n",
    "set1.symmetric_difference(set2)"
   ]
  },
  {
   "cell_type": "code",
   "execution_count": 11,
   "id": "3c5a25ac",
   "metadata": {
    "ExecuteTime": {
     "end_time": "2023-11-14T04:07:41.258706Z",
     "start_time": "2023-11-14T04:07:41.244997Z"
    }
   },
   "outputs": [
    {
     "data": {
      "text/plain": [
       "{1, 2, 3, 4, 5, 6, 7, 8, 9}"
      ]
     },
     "execution_count": 11,
     "metadata": {},
     "output_type": "execute_result"
    }
   ],
   "source": [
    "#20. Update a set with elements from another set.\n",
    "\n",
    "set1={1,2,3,4,5,6}\n",
    "set2={5,6,7,8,9}\n",
    "set1.update(set2)\n",
    "set1"
   ]
  },
  {
   "cell_type": "code",
   "execution_count": 19,
   "id": "5bd2dff1",
   "metadata": {
    "ExecuteTime": {
     "end_time": "2023-11-14T04:36:59.796598Z",
     "start_time": "2023-11-14T04:36:59.782958Z"
    }
   },
   "outputs": [
    {
     "data": {
      "text/plain": [
       "{2, 3, 5, 7, 11}"
      ]
     },
     "execution_count": 19,
     "metadata": {},
     "output_type": "execute_result"
    }
   ],
   "source": [
    "#21. Create a set of the first 5 prime numbers.\n",
    "\n",
    "set1=set()\n",
    "count=0\n",
    "for i in range(2,20):\n",
    "    count=0\n",
    "    for j in range(2,i):\n",
    "        if i%j==0:\n",
    "            count+=1\n",
    "\n",
    "    if count==0:\n",
    "        set1.add(i)\n",
    "    if len(set1)>=5:\n",
    "        break\n",
    "set1"
   ]
  },
  {
   "cell_type": "code",
   "execution_count": 22,
   "id": "9aabbf4e",
   "metadata": {
    "ExecuteTime": {
     "end_time": "2023-11-14T04:38:35.486946Z",
     "start_time": "2023-11-14T04:38:35.478818Z"
    }
   },
   "outputs": [
    {
     "name": "stdout",
     "output_type": "stream",
     "text": [
      "True\n"
     ]
    }
   ],
   "source": [
    "#22. Check if two sets are identical.\n",
    "\n",
    "set1={1,2,3,4,5,6}\n",
    "set2={1,2,3,4,5,6}\n",
    "if set1==set2:\n",
    "    print(True)\n",
    "else:\n",
    "    print(False)"
   ]
  },
  {
   "cell_type": "code",
   "execution_count": 26,
   "id": "2b23e317",
   "metadata": {
    "ExecuteTime": {
     "end_time": "2023-11-14T04:42:19.442159Z",
     "start_time": "2023-11-14T04:42:19.432138Z"
    }
   },
   "outputs": [
    {
     "data": {
      "text/plain": [
       "frozenset({1, 2, 3, 4})"
      ]
     },
     "execution_count": 26,
     "metadata": {},
     "output_type": "execute_result"
    }
   ],
   "source": [
    "#23. Create a frozen set.\n",
    "\n",
    "set1=frozenset([1,2,3,4])\n",
    "set1"
   ]
  },
  {
   "cell_type": "code",
   "execution_count": 31,
   "id": "25b89ab4",
   "metadata": {
    "ExecuteTime": {
     "end_time": "2023-11-14T04:49:24.986547Z",
     "start_time": "2023-11-14T04:49:24.975051Z"
    }
   },
   "outputs": [
    {
     "data": {
      "text/plain": [
       "False"
      ]
     },
     "execution_count": 31,
     "metadata": {},
     "output_type": "execute_result"
    }
   ],
   "source": [
    "#24. Check if a set is disjoint with another set.\n",
    "\n",
    "set1={1,2,3,4,5,6}\n",
    "set2={1,2,3,4,5,6}\n",
    "set1.isdisjoint(set2)"
   ]
  },
  {
   "cell_type": "code",
   "execution_count": 32,
   "id": "51cc39da",
   "metadata": {
    "ExecuteTime": {
     "end_time": "2023-11-14T04:50:44.737426Z",
     "start_time": "2023-11-14T04:50:44.726429Z"
    }
   },
   "outputs": [
    {
     "data": {
      "text/plain": [
       "{1, 4, 9, 16, 25}"
      ]
     },
     "execution_count": 32,
     "metadata": {},
     "output_type": "execute_result"
    }
   ],
   "source": [
    "#25. Create a set of squares of numbers from 1 to 5.\n",
    "\n",
    "set1=set()\n",
    "for i in range(1,6):\n",
    "    set1.add(i**2)\n",
    "set1"
   ]
  },
  {
   "cell_type": "code",
   "execution_count": 35,
   "id": "ad3a64ef",
   "metadata": {
    "ExecuteTime": {
     "end_time": "2023-11-14T04:55:01.750799Z",
     "start_time": "2023-11-14T04:55:01.738723Z"
    }
   },
   "outputs": [
    {
     "data": {
      "text/plain": [
       "{2, 4, 6}"
      ]
     },
     "execution_count": 35,
     "metadata": {},
     "output_type": "execute_result"
    }
   ],
   "source": [
    "#26. Filter out all even numbers from a set.\n",
    "\n",
    "set1={1,2,3,4,5,6}\n",
    "set2=set()\n",
    "for i in set1:\n",
    "    if i%2==0:\n",
    "        set2.add(i)\n",
    "set2"
   ]
  },
  {
   "cell_type": "code",
   "execution_count": 36,
   "id": "8aca2e5d",
   "metadata": {
    "ExecuteTime": {
     "end_time": "2023-11-14T04:56:50.165640Z",
     "start_time": "2023-11-14T04:56:50.155325Z"
    }
   },
   "outputs": [
    {
     "data": {
      "text/plain": [
       "{1, 4, 9, 16, 25, 36}"
      ]
     },
     "execution_count": 36,
     "metadata": {},
     "output_type": "execute_result"
    }
   ],
   "source": [
    "#27. Multiply all elements in a set by 2.\n",
    "\n",
    "set1={1,2,3,4,5,6}\n",
    "set2=set()\n",
    "for i in set1:\n",
    "    set2.add(i**2)\n",
    "set2"
   ]
  },
  {
   "cell_type": "code",
   "execution_count": 40,
   "id": "1f02e201",
   "metadata": {
    "ExecuteTime": {
     "end_time": "2023-11-14T05:00:50.312291Z",
     "start_time": "2023-11-14T05:00:50.300464Z"
    }
   },
   "outputs": [
    {
     "data": {
      "text/plain": [
       "{8, 9, 10, 12, 28, 34, 35, 38}"
      ]
     },
     "execution_count": 40,
     "metadata": {},
     "output_type": "execute_result"
    }
   ],
   "source": [
    "#28. Create a set of random numbers.\n",
    "\n",
    "import random\n",
    "set1=set()\n",
    "for i in range(1,9):\n",
    "    a=random.randint(1,50)\n",
    "    set1.add(a)\n",
    "set1"
   ]
  },
  {
   "cell_type": "code",
   "execution_count": 42,
   "id": "6271c4e8",
   "metadata": {
    "ExecuteTime": {
     "end_time": "2023-11-14T05:07:11.832159Z",
     "start_time": "2023-11-14T05:07:11.825955Z"
    }
   },
   "outputs": [
    {
     "name": "stdout",
     "output_type": "stream",
     "text": [
      "set is empty\n"
     ]
    }
   ],
   "source": [
    "# 29. Check if a set is empty.\n",
    "\n",
    "set1={}\n",
    "if len(set1)==0:\n",
    "    print('set is empty')"
   ]
  },
  {
   "cell_type": "code",
   "execution_count": 44,
   "id": "96d0c131",
   "metadata": {
    "ExecuteTime": {
     "end_time": "2023-11-14T05:14:30.862263Z",
     "start_time": "2023-11-14T05:14:30.851228Z"
    }
   },
   "outputs": [
    {
     "data": {
      "text/plain": [
       "{frozenset({1, 2, 3}), frozenset({4, 5, 6})}"
      ]
     },
     "execution_count": 44,
     "metadata": {},
     "output_type": "execute_result"
    }
   ],
   "source": [
    "#30. Create a nested set (hint: use frozenset).\n",
    "\n",
    "set1={frozenset([1,2,3]),frozenset([4,5,6])}\n",
    "set1"
   ]
  },
  {
   "cell_type": "code",
   "execution_count": 45,
   "id": "a151ba75",
   "metadata": {
    "ExecuteTime": {
     "end_time": "2023-11-14T05:15:47.121010Z",
     "start_time": "2023-11-14T05:15:47.111532Z"
    }
   },
   "outputs": [
    {
     "data": {
      "text/plain": [
       "{1, 2, 3, 4, 6}"
      ]
     },
     "execution_count": 45,
     "metadata": {},
     "output_type": "execute_result"
    }
   ],
   "source": [
    "#31. Remove an element from a set using the discard method.\n",
    "\n",
    "set1={1,2,3,4,5,6}\n",
    "set1.discard(5)\n",
    "set1"
   ]
  },
  {
   "cell_type": "code",
   "execution_count": 46,
   "id": "88ed8f32",
   "metadata": {
    "ExecuteTime": {
     "end_time": "2023-11-14T05:18:40.556198Z",
     "start_time": "2023-11-14T05:18:40.547869Z"
    }
   },
   "outputs": [
    {
     "name": "stdout",
     "output_type": "stream",
     "text": [
      "False\n"
     ]
    }
   ],
   "source": [
    "#32. Compare two sets.\n",
    "\n",
    "set1={1,2,3,4,5,6}\n",
    "set2={3,4,5,6,7,8}\n",
    "if set1==set2:\n",
    "    print(True)\n",
    "else:\n",
    "    print(False)"
   ]
  },
  {
   "cell_type": "code",
   "execution_count": 47,
   "id": "faf90c17",
   "metadata": {
    "ExecuteTime": {
     "end_time": "2023-11-14T05:19:26.940948Z",
     "start_time": "2023-11-14T05:19:26.930156Z"
    }
   },
   "outputs": [
    {
     "data": {
      "text/plain": [
       "{'a', 'i', 'k', 'p', 'r', 't'}"
      ]
     },
     "execution_count": 47,
     "metadata": {},
     "output_type": "execute_result"
    }
   ],
   "source": [
    "#33. Create a set from a string.\n",
    "\n",
    "string='pratik'\n",
    "set1=set(string)\n",
    "set1"
   ]
  },
  {
   "cell_type": "code",
   "execution_count": 48,
   "id": "de9c3e7c",
   "metadata": {
    "ExecuteTime": {
     "end_time": "2023-11-14T05:22:36.615290Z",
     "start_time": "2023-11-14T05:22:36.602359Z"
    }
   },
   "outputs": [
    {
     "data": {
      "text/plain": [
       "{1, 2, 3, 4}"
      ]
     },
     "execution_count": 48,
     "metadata": {},
     "output_type": "execute_result"
    }
   ],
   "source": [
    "#34. Convert a set of strings to a set of integers.\n",
    "\n",
    "set1={'1','2','3','4'}\n",
    "set2=set()\n",
    "for i in set1:\n",
    "    set2.add(int(i))\n",
    "set1=set2\n",
    "set1"
   ]
  },
  {
   "cell_type": "code",
   "execution_count": 49,
   "id": "46506202",
   "metadata": {
    "ExecuteTime": {
     "end_time": "2023-11-14T05:23:17.367729Z",
     "start_time": "2023-11-14T05:23:17.356099Z"
    }
   },
   "outputs": [
    {
     "data": {
      "text/plain": [
       "{'1', '2', '3', '4'}"
      ]
     },
     "execution_count": 49,
     "metadata": {},
     "output_type": "execute_result"
    }
   ],
   "source": [
    "#35. Convert a set of integers to a set of strings.\n",
    "\n",
    "set1={1, 2, 3, 4}\n",
    "set2=set()\n",
    "for i in set1:\n",
    "    set2.add(str(i))\n",
    "set1=set2\n",
    "set1"
   ]
  },
  {
   "cell_type": "code",
   "execution_count": 50,
   "id": "a98a3b3e",
   "metadata": {
    "ExecuteTime": {
     "end_time": "2023-11-14T05:25:25.017813Z",
     "start_time": "2023-11-14T05:25:25.005743Z"
    }
   },
   "outputs": [
    {
     "data": {
      "text/plain": [
       "{1, 2, 3, 4, 5}"
      ]
     },
     "execution_count": 50,
     "metadata": {},
     "output_type": "execute_result"
    }
   ],
   "source": [
    "#36. Create a set from a tuple.\n",
    "\n",
    "tup=(1,2,3,4,5)\n",
    "set1=set(tup)\n",
    "set1\n"
   ]
  },
  {
   "cell_type": "code",
   "execution_count": 51,
   "id": "2e68fbc9",
   "metadata": {
    "ExecuteTime": {
     "end_time": "2023-11-14T05:26:33.980347Z",
     "start_time": "2023-11-14T05:26:33.968438Z"
    }
   },
   "outputs": [
    {
     "data": {
      "text/plain": [
       "(1, 2, 3, 4, 5)"
      ]
     },
     "execution_count": 51,
     "metadata": {},
     "output_type": "execute_result"
    }
   ],
   "source": [
    "#37. Convert a set to a tuple.\n",
    "\n",
    "set1={1,2,3,4,5}\n",
    "tup=tuple(set1)\n",
    "tup"
   ]
  },
  {
   "cell_type": "code",
   "execution_count": 52,
   "id": "739b82e0",
   "metadata": {
    "ExecuteTime": {
     "end_time": "2023-11-14T05:28:28.281181Z",
     "start_time": "2023-11-14T05:28:28.270368Z"
    }
   },
   "outputs": [
    {
     "data": {
      "text/plain": [
       "5"
      ]
     },
     "execution_count": 52,
     "metadata": {},
     "output_type": "execute_result"
    }
   ],
   "source": [
    "#38. Find the maximum value in a set.\n",
    "\n",
    "set1={1,2,3,4,5}\n",
    "high=0\n",
    "for i in set1:\n",
    "    if i>high:\n",
    "        high=i\n",
    "high"
   ]
  },
  {
   "cell_type": "code",
   "execution_count": 54,
   "id": "001c56f1",
   "metadata": {
    "ExecuteTime": {
     "end_time": "2023-11-14T05:36:22.459803Z",
     "start_time": "2023-11-14T05:36:22.447340Z"
    }
   },
   "outputs": [
    {
     "data": {
      "text/plain": [
       "2"
      ]
     },
     "execution_count": 54,
     "metadata": {},
     "output_type": "execute_result"
    }
   ],
   "source": [
    "#39. Find the minimum value in a set.\n",
    "\n",
    "set1={6,8,5,2,7,9}\n",
    "lst=list(set1)\n",
    "min(lst)"
   ]
  },
  {
   "cell_type": "code",
   "execution_count": 56,
   "id": "d769f6ef",
   "metadata": {
    "ExecuteTime": {
     "end_time": "2023-11-14T05:42:37.950039Z",
     "start_time": "2023-11-14T05:42:34.533358Z"
    }
   },
   "outputs": [
    {
     "name": "stdout",
     "output_type": "stream",
     "text": [
      "enter values2\n",
      "enter values3\n",
      "enter values4\n",
      "enter values5\n",
      "enter values6\n"
     ]
    },
    {
     "data": {
      "text/plain": [
       "{2, 3, 4, 5, 6}"
      ]
     },
     "execution_count": 56,
     "metadata": {},
     "output_type": "execute_result"
    }
   ],
   "source": [
    "#40. Create a set from user input.\n",
    "\n",
    "set1=set()\n",
    "n=5\n",
    "for i in range(n):\n",
    "    a=int(input('enter values'))\n",
    "    set1.add(a)\n",
    "set1"
   ]
  },
  {
   "cell_type": "code",
   "execution_count": 59,
   "id": "c446be64",
   "metadata": {
    "ExecuteTime": {
     "end_time": "2023-11-14T05:45:20.726066Z",
     "start_time": "2023-11-14T05:45:20.717904Z"
    }
   },
   "outputs": [
    {
     "name": "stdout",
     "output_type": "stream",
     "text": [
      "intersection is not empty\n"
     ]
    }
   ],
   "source": [
    "#41. Check if the intersection of two sets is empty.\n",
    "\n",
    "set1={1,2,3,4,5}\n",
    "set2={4,5,6,7,8}\n",
    "if len(set1.intersection(set2))==0:\n",
    "    print('intersection of two sets is empty')\n",
    "else:\n",
    "    print('intersection is not empty')"
   ]
  },
  {
   "cell_type": "code",
   "execution_count": 63,
   "id": "d1b88eab",
   "metadata": {
    "ExecuteTime": {
     "end_time": "2023-11-14T05:50:34.997166Z",
     "start_time": "2023-11-14T05:50:34.985931Z"
    }
   },
   "outputs": [
    {
     "data": {
      "text/plain": [
       "{0, 1, 2, 3, 5}"
      ]
     },
     "execution_count": 63,
     "metadata": {},
     "output_type": "execute_result"
    }
   ],
   "source": [
    "#42. Create a set of the first 5 Fibonacci numbers.\n",
    "\n",
    "set1={0}\n",
    "first=0\n",
    "second=1\n",
    "for i in range(5):\n",
    "    third=first+second\n",
    "    set1.add(second)\n",
    "    first=second\n",
    "    second=third\n",
    "set1"
   ]
  },
  {
   "cell_type": "code",
   "execution_count": 64,
   "id": "0525ebd4",
   "metadata": {
    "ExecuteTime": {
     "end_time": "2023-11-14T05:52:12.509894Z",
     "start_time": "2023-11-14T05:52:12.498395Z"
    }
   },
   "outputs": [
    {
     "data": {
      "text/plain": [
       "[1, 2, 3, 4, 5]"
      ]
     },
     "execution_count": 64,
     "metadata": {},
     "output_type": "execute_result"
    }
   ],
   "source": [
    "#43. Remove duplicates from a list using sets.\n",
    "\n",
    "lst=[1,2,3,4,5,3,4,2]\n",
    "set1=set(lst)\n",
    "lst=list(set1)\n",
    "lst"
   ]
  },
  {
   "cell_type": "code",
   "execution_count": 68,
   "id": "7c63f53c",
   "metadata": {
    "ExecuteTime": {
     "end_time": "2023-11-14T05:55:00.908170Z",
     "start_time": "2023-11-14T05:55:00.899705Z"
    }
   },
   "outputs": [
    {
     "name": "stdout",
     "output_type": "stream",
     "text": [
      "truew\n"
     ]
    }
   ],
   "source": [
    "#44. Check if two sets have the same elements, regardless of their count.\n",
    "\n",
    "set1=(1,3,4,6,3,2,1)\n",
    "set2=(1,2,3,4,2,6)\n",
    "if set(set1)==set(set2):\n",
    "    print(\"truew\")"
   ]
  },
  {
   "cell_type": "code",
   "execution_count": 70,
   "id": "79e58cc9",
   "metadata": {
    "ExecuteTime": {
     "end_time": "2023-11-14T05:58:13.179500Z",
     "start_time": "2023-11-14T05:58:13.168262Z"
    }
   },
   "outputs": [
    {
     "data": {
      "text/plain": [
       "{1, 2, 4, 8, 16}"
      ]
     },
     "execution_count": 70,
     "metadata": {},
     "output_type": "execute_result"
    }
   ],
   "source": [
    "#45. Create a set of the first `n` powers of 2.\n",
    "\n",
    "set1=set()\n",
    "n=5\n",
    "for i in range(n):\n",
    "    set1.add(2**i)\n",
    "set1"
   ]
  },
  {
   "cell_type": "code",
   "execution_count": 72,
   "id": "ebf4de4b",
   "metadata": {
    "ExecuteTime": {
     "end_time": "2023-11-14T06:00:28.999194Z",
     "start_time": "2023-11-14T06:00:28.990306Z"
    }
   },
   "outputs": [
    {
     "data": {
      "text/plain": [
       "{3, 4, 6}"
      ]
     },
     "execution_count": 72,
     "metadata": {},
     "output_type": "execute_result"
    }
   ],
   "source": [
    "#46. Find the common elements between a set and a list.\n",
    "\n",
    "set1={1,3,4,6,3,2,1}\n",
    "lst=[3,4,5,6,7]\n",
    "set1.intersection(set(lst))"
   ]
  },
  {
   "cell_type": "code",
   "execution_count": 75,
   "id": "d189431f",
   "metadata": {
    "ExecuteTime": {
     "end_time": "2023-11-14T06:03:55.451134Z",
     "start_time": "2023-11-14T06:03:55.440368Z"
    }
   },
   "outputs": [
    {
     "data": {
      "text/plain": [
       "{1, 3, 6, 10, 15}"
      ]
     },
     "execution_count": 75,
     "metadata": {},
     "output_type": "execute_result"
    }
   ],
   "source": [
    "#47. Create a set of the first `n` triangular numbers.\n",
    "\n",
    "set1=set()\n",
    "count=1\n",
    "for i in range(0,n):\n",
    "    count+=i\n",
    "    i+=count\n",
    "    set1.add(i)\n",
    "set1"
   ]
  },
  {
   "cell_type": "code",
   "execution_count": 78,
   "id": "85d024a6",
   "metadata": {
    "ExecuteTime": {
     "end_time": "2023-11-14T06:08:10.834349Z",
     "start_time": "2023-11-14T06:08:10.822984Z"
    }
   },
   "outputs": [
    {
     "data": {
      "text/plain": [
       "False"
      ]
     },
     "execution_count": 78,
     "metadata": {},
     "output_type": "execute_result"
    }
   ],
   "source": [
    "#48. Check if a set contains another set as a subset.\n",
    "\n",
    "set1={1,2,3,4,5}\n",
    "set2={4,5,6,7,8}\n",
    "set1.issubset(set2)"
   ]
  },
  {
   "cell_type": "code",
   "execution_count": 10,
   "id": "7346ab61",
   "metadata": {
    "ExecuteTime": {
     "end_time": "2023-11-14T06:20:28.100853Z",
     "start_time": "2023-11-14T06:20:28.088042Z"
    }
   },
   "outputs": [
    {
     "data": {
      "text/plain": [
       "{0, 1}"
      ]
     },
     "execution_count": 10,
     "metadata": {},
     "output_type": "execute_result"
    }
   ],
   "source": [
    "#49. Create a set of alternating 1s and 0s of length `n`.\n",
    "\n",
    "set1=set()\n",
    "n=7\n",
    "for i in range(10):\n",
    "#     print(i)\n",
    "    if i%2==0:\n",
    "#         print(0)\n",
    "        set1.add(0)\n",
    "    else:\n",
    "#         print(1)\n",
    "        set1.add(1)\n",
    "set1"
   ]
  },
  {
   "cell_type": "code",
   "execution_count": 11,
   "id": "3a94ecab",
   "metadata": {
    "ExecuteTime": {
     "end_time": "2023-11-14T06:28:34.929732Z",
     "start_time": "2023-11-14T06:28:34.918365Z"
    }
   },
   "outputs": [
    {
     "data": {
      "text/plain": [
       "{1, 2, 3, 4, 5, 6, 7, 8, 9}"
      ]
     },
     "execution_count": 11,
     "metadata": {},
     "output_type": "execute_result"
    }
   ],
   "source": [
    "#50. Merge multiple sets into one.\n",
    "\n",
    "set1={1,2,3,4,5}\n",
    "set2={6,7,8,9}\n",
    "set1.union(set2)"
   ]
  },
  {
   "cell_type": "code",
   "execution_count": null,
   "id": "e7e0296c",
   "metadata": {},
   "outputs": [],
   "source": [
    "#--------------------end-------------------"
   ]
  }
 ],
 "metadata": {
  "kernelspec": {
   "display_name": "Python 3 (ipykernel)",
   "language": "python",
   "name": "python3"
  },
  "language_info": {
   "codemirror_mode": {
    "name": "ipython",
    "version": 3
   },
   "file_extension": ".py",
   "mimetype": "text/x-python",
   "name": "python",
   "nbconvert_exporter": "python",
   "pygments_lexer": "ipython3",
   "version": "3.11.4"
  },
  "toc": {
   "base_numbering": 1,
   "nav_menu": {},
   "number_sections": true,
   "sideBar": true,
   "skip_h1_title": false,
   "title_cell": "Table of Contents",
   "title_sidebar": "Contents",
   "toc_cell": false,
   "toc_position": {},
   "toc_section_display": true,
   "toc_window_display": false
  }
 },
 "nbformat": 4,
 "nbformat_minor": 5
}
